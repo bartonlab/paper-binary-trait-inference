{
 "cells": [
  {
   "cell_type": "markdown",
   "metadata": {},
   "source": [
    "# <font color = red> HIV Analysis\n",
    "</font> Here we combine HIV sequence data from [the Los Alamos National Laboratory HIV Sequence Database](https://www.hiv.lanl.gov/content/index) and immunological data to investigate HIV evolution across 13 individuals. This data is contained in the data/HIV/ directory.\n",
    "\n",
    "And we use some processed data from [here](https://github.com/bartonlab/paper-MPL-inference).\n",
    "- epitopes.csv $\\to$ epitopes.csv: information about epitopes \n",
    "- src-MPL-HIV.tar.gz/\\*-poly-seq2state.dat $\\to$ input/sequence/\\*-poly-seq2state.dat: processed sequences readable by MPL\n",
    "- src-MPL-HIV.tar.gz/Zanini-extended $\\to$ input/Zanini-extended: mutation matrix for HIV data\n",
    "- processed/\\*-index.csv $\\to$ notrait/processed/\\*-index.csv: information about all sites\n",
    "- interim/\\*-poly.csv $\\to$ notrait/interim/\\*-poly.csv: information about polymorphic sites, which will be modified to interim/*-poly.csv when finding escape sites"
   ]
  },
  {
   "cell_type": "markdown",
   "metadata": {},
   "source": [
    "## Contents\n",
    "- ### [Libraries and variables](#lib)\n",
    "- ### Data analyze\n",
    "    - #### [Find escape sites](#escape)\n",
    "    - #### [Get recombination rate over time](#VLr)\n",
    "    - #### [Run C++ MPL code](#mpl)\n",
    "    - #### [Deal with data](#deal)\n",
    "    - #### [Calculate Δs_ij](#sij)"
   ]
  },
  {
   "cell_type": "markdown",
   "metadata": {},
   "source": [
    "## <a id='lib'></a> Libraries and variables"
   ]
  },
  {
   "cell_type": "code",
   "execution_count": 1,
   "metadata": {},
   "outputs": [
    {
     "name": "stdout",
     "output_type": "stream",
     "text": [
      "This notebook was prepared using:\n",
      "python version 3.10.9 | packaged by conda-forge | (main, Feb  2 2023, 20:26:08) [Clang 14.0.6 ]\n",
      "numpy version 1.24.2\n",
      "pandas version 1.5.3\n"
     ]
    }
   ],
   "source": [
    "print('This notebook was prepared using:')\n",
    "\n",
    "import os\n",
    "import sys\n",
    "print('python version %s' % sys.version)\n",
    "\n",
    "import numpy as np\n",
    "print('numpy version %s' % np.__version__)\n",
    "\n",
    "import pandas as pd\n",
    "print('pandas version %s' % pd.__version__)\n",
    "\n",
    "from scipy import integrate\n",
    "import scipy.interpolate as sp_interpolate\n",
    "\n",
    "import subprocess\n",
    "\n",
    "import re\n",
    "from math import isnan\n",
    "\n",
    "import HIV\n",
    "\n",
    "\n",
    "# GLOBAL VARIABLES\n",
    "\n",
    "NUC = ['-', 'A', 'C', 'G', 'T']\n",
    "\n",
    "ppt = ['700010040', '700010058', '700010077', '700010470', '700010607', '703010131', '703010159', \n",
    "       '703010256', '704010042', '705010162', '705010185', '705010198', '706010164']\n",
    "\n",
    "tags = ['700010040-3', '700010040-5', '700010058-3', '700010058-5', '700010077-3', '700010077-5',\n",
    "        '700010470-3', '700010470-5', '700010607-3', '700010607-5', '703010131-3', '703010131-5', \n",
    "        '703010159-3', '703010159-5', '703010256-3', '703010256-5', '704010042-3', '704010042-5', \n",
    "        '705010162-3', '705010162-5', '705010185-3', '705010185-5', '705010198-3', '705010198-5', \n",
    "        '706010164-3', '706010164-5']  \n",
    "\n",
    "# GitHub di rectories\n",
    "HIV_DIR = 'data/HIV'\n",
    "MPL_DIR = 'src'\n",
    "SIM_DIR = 'data/simulation'\n",
    "FIG_DIR = 'figures'"
   ]
  },
  {
   "cell_type": "markdown",
   "metadata": {},
   "source": [
    "## Data analyze"
   ]
  },
  {
   "cell_type": "markdown",
   "metadata": {},
   "source": [
    "###  <a id='escape'></a>Find escape sites\n",
    "escape site = polymorphic site which is nonsynonymous in the reading frame of its epitope.\n",
    "\n",
    "Steps to find escape sites:\n",
    "1. find all polymorphic sites within one epitope\n",
    "2. check if these polymorphic sites are nonsynonymous in the reading frame of its epitope\n",
    "3. check if the epitope is independent using reduced row echelon form (RREF) for the integrated covariance matrix\n",
    "    - independent,\n",
    "        - sites containing nonsynonymous mutations $\\to$ escape sites (or trait sites)\n",
    "        - epitope $\\to$ escape group (or trait group);\n",
    "    - dependent,\n",
    "        - sites $\\to$ special sites\n",
    "        - epitope $\\neq$ escape group (or trait group). \n",
    "\n",
    "Special sites: sites among dependent epitopes. Binary traits are correlated of anticorrelated with some mutations, which isn\n",
    "nonsynonymous mutation in the reading frame of their epitope but not escape sites because the number of escape sites in its epitope is less than 3."
   ]
  },
  {
   "cell_type": "markdown",
   "metadata": {},
   "source": [
    "#### Find all possible binary traits"
   ]
  },
  {
   "cell_type": "code",
   "execution_count": 2,
   "metadata": {},
   "outputs": [
    {
     "name": "stdout",
     "output_type": "stream",
     "text": [
      "CH040-3 has 4 binary traits, epitope AR9 : [18, 19, 20, 21], epitope EE9 : [245, 246], epitope RI9 : [257, 258, 259], epitope SR10 : [286, 287, 288, 290, 291], \n",
      "CH040-5 has 1 binary traits, epitope CR9 : [31, 32], \n",
      "CH058-3 has 1 binary traits, epitope EL9 : [60, 61, 62, 63], \n",
      "CH058-5 has 1 binary traits, epitope TW10 : [16, 17], \n",
      "CH077-3 has 6 binary traits, epitope DI9 : [28, 31, 32, 34, 35], epitope TL9 : [82, 83, 84, 85], epitope QF10 : [87, 88, 89], epitope DR9 : [122, 123, 124, 125], epitope DG9 : [149, 150, 151, 152, 153, 154, 156, 157, 158, 159, 160, 161, 162, 163, 164, 165, 166, 167, 168, 169, 170, 171], epitope KF9 : [186, 187, 188, 189, 190], \n",
      "CH077-5 has 2 binary traits, epitope IW9 : [1], epitope TW10 : [4, 5], \n",
      "CH470-3 has 3 binary traits, epitope RK10 : [0, 1, 2, 3], epitope RI9 : [302, 303, 304, 305], epitope RK11 : [352, 353, 355], \n",
      "CH470-5 has 4 binary traits, epitope GK9 : [8, 9], epitope DL9 : [23, 24, 25], epitope EK9 : [78, 79, 81], epitope RL9 : [149, 150, 151, 152], \n",
      "CH607-3 has 1 binary traits, epitope KY11 : [198, 199, 200, 201, 202], \n",
      "700010607-5 has no bianry trait\n",
      "\tmutant at site 0 in codon for CH131-3 that does not terminate in alignment\n",
      "CH131-3 has 3 binary traits, epitope KC9 : [45, 46], epitope SI9 : [560, 561], epitope EV11 : [618, 619, 620, 621, 624], \n",
      "CH131-5 has 1 binary traits, epitope VF9 : [14, 15, 16, 19], \n",
      "CH159-3 has 2 binary traits, epitope PL9 : [370, 371, 372, 374, 375, 376], epitope RD9 : [417, 418, 420, 421, 422, 423, 424], \n",
      "703010159-5 has no bianry trait\n",
      "CH256-3 has 6 binary traits, epitope EK9 : [28, 29, 30, 31, 32, 33], epitope EW10 : [45, 46], epitope TW9 : [316, 317], epitope RN9 : [345, 346, 347, 348, 349], epitope LL9 : [362, 363, 364, 366], epitope QR9 : [423, 424, 427], \n",
      "CH256-5 has 1 binary traits, epitope PS9 : [169, 170, 171, 172, 174, 175, 176, 177], \n",
      "CH042-3 has 4 binary traits, epitope DR9 : [95, 96], epitope KY9 : [200, 201, 202, 203, 204, 205, 207, 208, 210], epitope NL9 : [660, 661, 662, 663, 664, 665], epitope RY9 : [765, 766], \n",
      "CH042-5 has 1 binary traits, epitope QP9 : [29, 30], \n",
      "CH162-3 has 4 binary traits, epitope LI9 : [33, 34], epitope RA9 : [290, 291, 292, 293, 294, 295, 296, 297, 298, 299, 300, 301, 302, 303, 304, 305, 306, 307, 308, 309, 310, 311, 312, 313, 314, 315, 316, 317], epitope KM9 : [327, 328], epitope EH9 : [334, 335, 337], \n",
      "CH162-5 has 3 binary traits, epitope VD9 : [6, 7, 8], epitope GN9 : [30, 31, 33], epitope EW9 : [38, 39, 40, 42, 43], \n",
      "705010185-3 has no bianry trait\n",
      "CH185-5 has 1 binary traits, epitope GY9 : [2, 3, 4, 5, 6], \n",
      "CH198-3 has 1 binary traits, epitope KF9 : [194, 195, 196], \n",
      "705010198-5 has no bianry trait\n",
      "CH164-3 has 3 binary traits, epitope NY9 : [86, 87, 88, 89], epitope SY9 : [182, 183, 184, 185, 186, 187, 188], epitope EV11 : [453, 454, 455, 456, 457, 458], \n",
      "CH164-5 has 1 binary traits, epitope EA9 : [50, 51], \n"
     ]
    }
   ],
   "source": [
    "import importlib\n",
    "importlib.reload(HIV)\n",
    "    \n",
    "min_n = 2\n",
    "\n",
    "for tag in tags:\n",
    "    HIV.find_nons_mutations(tag)"
   ]
  },
  {
   "cell_type": "markdown",
   "metadata": {},
   "source": [
    "#### Determine if this binary trait is independent"
   ]
  },
  {
   "cell_type": "markdown",
   "metadata": {},
   "source": [
    "Run g++ src/rref.cpp -O3 -o rref.out to compile the C++ code"
   ]
  },
  {
   "cell_type": "code",
   "execution_count": 3,
   "metadata": {},
   "outputs": [
    {
     "name": "stdout",
     "output_type": "stream",
     "text": [
      "CH040-3 : trait EE9, (2 NS), linked variants: 245T, 246A, \n",
      "CH077-5 : trait IW9, (2 NS), linked variants: 1C, 1T, \n",
      "CH077-5 : trait TW10, (2 NS), linked variants: 4A, 5A, \n",
      "CH470-3 : trait RI9, (4 NS), linked variants: 302C, 303A, 304T, 305T, \n",
      "CH131-3 : trait KC9, (2 NS), linked variants: 46G, \n",
      "CH131-3 : trait SI9, (2 NS), linked variants: 560C, 561A, \n",
      "CH256-3 : trait EW10, (2 NS), linked variants: 46A, \n",
      "CH256-3 : trait TW9, (2 NS), linked variants: 316A, \n",
      "CH256-3 : trait QR9, (3 NS), linked variants: 423G, 424A, \n",
      "CH042-3 : trait NL9, (7 NS), linked variants: 660-, 664A, 665C, \n",
      "CH162-3 : trait KM9, (2 NS), linked variants: 327G, \n",
      "CH162-5 : trait VD9, (3 NS), linked variants: 7C, 8A, \n",
      "CH162-5 : trait GN9, (3 NS), linked variants: 30G, 31C, 33G, \n",
      "CH162-5 : trait EW9, (6 NS), linked variants: 33A(GN9, WT), \n",
      "CH164-3 : trait NY9, (4 NS), linked variants: 89T, \n",
      "CH164-3 : trait SY9, (7 NS), linked variants: 182A, 183-, \n",
      "CH164-5 : trait EA9, (2 NS), linked variants: 51T, \n"
     ]
    }
   ],
   "source": [
    "import importlib\n",
    "importlib.reload(HIV)\n",
    "\n",
    "# Use sympy_matrix.rref() to get RREF\n",
    "for tag in tags:\n",
    "    HIV.determine_dependence_new(tag)"
   ]
  },
  {
   "cell_type": "markdown",
   "metadata": {},
   "source": [
    "#### Output the results\n",
    "Trait sites : mutations on that sites are nonsynonymous for epitope, and its epitope is independent\\\n",
    "Special sites: mutations on that sites are nonsynonymous for epitope but its epitope is dependent, meaning it hard to disentangle the effects"
   ]
  },
  {
   "cell_type": "code",
   "execution_count": 4,
   "metadata": {},
   "outputs": [
    {
     "name": "stdout",
     "output_type": "stream",
     "text": [
      "There are totally 71 epitopes, 37 of them are independent, which can be seen as binary traits,the other 34 are dependent.\n"
     ]
    }
   ],
   "source": [
    "import importlib\n",
    "importlib.reload(HIV)\n",
    "\n",
    "n_independent = 0\n",
    "n_dependent = 0\n",
    "TF_correct = True\n",
    "for tag in tags:\n",
    "    traitsite = HIV.read_file('traitsite/traitsite-'+tag+'.dat')\n",
    "    TFseq     = HIV.read_file_s('traitseq/traitseq-'+tag+'.dat')\n",
    "\n",
    "    df = pd.read_csv('%s/interim/%s-poly.csv' %(HIV_DIR,tag), comment='#', memory_map=True)\n",
    "\n",
    "    # Get special sites (nonsynonymous mutation for epitope but not trait sites)\n",
    "    df_epi = df[(df['epitope'].notna()) & (df['escape'] == True)]\n",
    "    epitopes = df_epi['epitope'].unique()\n",
    "    trait_index = []\n",
    "    sp_index = []\n",
    "    nonsy_sites = []\n",
    "    \n",
    "    for n in range(len(epitopes)):\n",
    "        df_n = df_epi[(df_epi['epitope'] == epitopes[n]) ]\n",
    "        nonsy_sites_n = df_n['polymorphic_index'].unique()\n",
    "        nonsy_sites.append(nonsy_sites_n)\n",
    "        if any(np.array_equal(nonsy_sites_n, trait) for trait in traitsite):\n",
    "            trait_index.append(n)\n",
    "        else:\n",
    "            sp_index.append(n)\n",
    "\n",
    "    n_independent += len(trait_index)\n",
    "    n_dependent   += len(sp_index)\n",
    "    # if len(traitsite)!= 0:\n",
    "    #     print(f'CH{tag[-5:]}|{len(traitsite)}', end = '|')\n",
    "    #     for nn in trait_index:\n",
    "    #         trait_epi = epitopes[nn]\n",
    "    #         epiname = trait_epi[0] + trait_epi[-1] + str(len(trait_epi))\n",
    "    #         print(f'<br>{epiname}: {nonsy_sites[nn]}', end = '')\n",
    "    #     print('',end = '|')\n",
    "    # else:\n",
    "    #     print(f'CH{tag[-5:]}|0|No binary trait', end = '|')\n",
    "\n",
    "    # if len(sp_index)!= 0:\n",
    "    #     for nn in sp_index:\n",
    "    #         sp_epi = epitopes[nn]\n",
    "    #         epiname = sp_epi[0] + sp_epi[-1] + str(len(sp_epi))\n",
    "    #         print(f'<br>{epiname}: {nonsy_sites[nn]}', end = '')\n",
    "    #     print()\n",
    "    # else:\n",
    "    #     print(f'No special sites')\n",
    "\n",
    "print(f'There are totally {n_independent + n_dependent} epitopes, \\\n",
    "{n_independent} of them are independent, which can be seen as binary traits,\\\n",
    "the other {n_dependent} are dependent.')"
   ]
  },
  {
   "cell_type": "markdown",
   "metadata": {},
   "source": [
    "tag|escape group|escape sites|special sites\n",
    ":----:|:----:|:---|:-----\n",
    "CH040-3|3|AR9: [18 19 20 21]<br>RI9: [257 258 259]<br>SR10: [286 287 288 290 291]|EE9: [245 246]\n",
    "CH040-5|1|CR9: [31 32]|KL9: [39]<br>HT9: [104]\n",
    "CH058-3|1|EL9: [60 61 62 63]|No special sites\n",
    "CH058-5|1|TW10: [16 17]|IW9: [13]\n",
    "CH077-3|6|DI9: [28 31 32 34 35]<br>TL9: [82 83 84 85]<br>QF10: [87 88 89]<br>DR9: [122 123 124 125]<br>DG9: [149 150 151 152 153 154 156 157 <br>158 159 160 161 162 163 164 165 166 <br>167 168 169 170 171]<br>KF9: [186 187 188 189 190]|No special sites\n",
    "CH077-5|0|No binary trait|IW9: [1]<br>TW10: [4 5]\n",
    "CH470-3|2|RK10: [0 1 2 3]<br>RK11: [352 353 355]|LP9: [40]<br>RI9: [302 303 304 305]<br>VK9: [334]\n",
    "CH470-5|4|GK9: [8 9]<br>DL9: [23 24 25]<br>EK9: [78 79 81]<br>RL9: [149 150 151 152]|QK9: [124]\n",
    "CH607-3|1|KY11: [198 199 200 201 202]|No special sites\n",
    "CH607-5|0|No binary trait|No special sites\n",
    "CH131-3|1|EV11: [618 619 620 621 624]|KC9: [45 46]<br>FY10: [47]<br>VV9: [76]<br>CI9: [189]<br>SI9: [560 561]\n",
    "CH131-5|1|VF9: [14 15 16 19]|RY9: [259]\n",
    "CH159-3|2|PL9: [370 371 372 374 375 376]<br>RD9: [417 418 420 421 422 423 424]|No special sites\n",
    "CH159-5|0|No binary trait|No special sites\n",
    "CH256-3|3|EK9: [28 29 30 31 32 33]<br>RN9: [345 346 347 348 349]<br>LL9: [362 363 364 366]|EW10: [45 46]<br>TW9: [316 317]<br>QR9: [423 424 427]\n",
    "CH256-5|1|PS9: [169 170 171 172 174 175 176 177]|DA9: [42]<br>NA9: [208]\n",
    "CH042-3|3|DR9: [95 96]<br>KY9: [200 201 202 203 204 205 207 208 210]<br>RY9: [765 766]|NL9: [660 661 662 663 664 665]\n",
    "CH042-5|1|QP9: [29 30]|NQ9: [125]\n",
    "CH162-3|3|LI9: [33 34]<br>RA9: [290 291 292 293 294 295 296 <br>297 298 299 300 301 302 303 <br>304 305 306 307 308 309 310 <br>311 312 313 314 315 316 317]<br>EH9: [334 335 337]|KM9: [327 328]\n",
    "CH162-5|0|No binary trait|VD9: [6 7 8]<br>GN9: [30 31 33]<br>EW9: [38 39 40 42 43]<br>VL9: [155]\n",
    "CH185-3|0|No binary trait|No special sites\n",
    "CH185-5|1|GY9: [2 3 4 5 6]|No special sites\n",
    "CH198-3|1|KF9: [194 195 196]|No special sites\n",
    "CH198-5|0|No binary trait|No special sites\n",
    "CH164-3|1|EV11: [453 454 455 456 457 458]|NY9: [86 87 88 89]<br>SY9: [182 183 184 185 186 187 188]<br>KY11: [463]\n",
    "CH164-5|0|No binary trait|PF9: [44]<br>EA9: [50 51]<br>GW10: [170]"
   ]
  },
  {
   "cell_type": "markdown",
   "metadata": {},
   "source": [
    "#### Check\n",
    "Check if the TF sequence and distance is correct "
   ]
  },
  {
   "cell_type": "code",
   "execution_count": 5,
   "metadata": {},
   "outputs": [
    {
     "name": "stdout",
     "output_type": "stream",
     "text": [
      "no problem\n"
     ]
    }
   ],
   "source": [
    "import importlib\n",
    "importlib.reload(HIV)\n",
    "\n",
    "TF_correct = True\n",
    "for tag in tags:\n",
    "    traitsite = HIV.read_file('traitsite/traitsite-'+tag+'.dat')\n",
    "    TFseq     = HIV.read_file_s('traitseq/traitseq-'+tag+'.dat')\n",
    "    traitdis  = HIV.read_file('traitdis/traitdis-'+tag+'.dat')\n",
    "    df = pd.read_csv('%s/interim/%s-poly.csv' %(HIV_DIR,tag), comment='#', memory_map=True)\n",
    "    \n",
    "    for i in range(len(traitsite)):        \n",
    "        for j in range(len(traitsite[i])):\n",
    "            # Check if there is something wrong with wild type allele\n",
    "            n_ij   = df[(df['polymorphic_index'] == traitsite[i][j]) & (df['escape'] == False)]\n",
    "            \n",
    "            if len(n_ij) != len(TFseq[i][j]):\n",
    "                TF_correct = False\n",
    "                print('there is something wrong with TF sequence for %s'%tag)\n",
    "            for ii in range(len(n_ij)):\n",
    "                TF     = n_ij.iloc[ii].nucleotide\n",
    "                TF_nuc = NUC.index(TF)\n",
    "                if TF_nuc not in TFseq[i][j]:\n",
    "                    TF_correct = False\n",
    "                    print('there is something wrong with TF sequence for %s'%tag)\n",
    "                \n",
    "        if len(traitsite[i]) != len(traitdis[i])+1:\n",
    "            TF_correct = False\n",
    "            print('there is something wrong with the trait distance for %s'%tag)\n",
    "\n",
    "if TF_correct:\n",
    "    print('no problem')\n"
   ]
  },
  {
   "cell_type": "markdown",
   "metadata": {},
   "source": [
    "Check if there are some synonymous mutations on trait sites"
   ]
  },
  {
   "cell_type": "code",
   "execution_count": 6,
   "metadata": {},
   "outputs": [
    {
     "name": "stdout",
     "output_type": "stream",
     "text": [
      "CH077-3 35 C\n",
      "CH077-3 161 A\n",
      "CH162-3 291 T\n",
      "CH162-3 295 T\n"
     ]
    }
   ],
   "source": [
    "for tag in tags:\n",
    "    traitsite = HIV.read_file('traitsite/traitsite-'+tag+'.dat')\n",
    "    df = pd.read_csv('%s/interim/%s-poly.csv' %(HIV_DIR,tag), comment='#', memory_map=True)\n",
    "    for i in range(len(traitsite)):\n",
    "        for j in range(len(traitsite[i])):\n",
    "            n_ij   = df[df['polymorphic_index'] == traitsite[i][j]]\n",
    "            for a in range(len(n_ij)):\n",
    "                if n_ij.iloc[a].escape == False and n_ij.iloc[a].nucleotide != n_ij.iloc[a].TF:\n",
    "                    print(f'CH{tag[-5:]} {n_ij.iloc[a].polymorphic_index} {n_ij.iloc[a].nucleotide}')"
   ]
  },
  {
   "cell_type": "markdown",
   "metadata": {},
   "source": [
    "### <a id='VLr'></a> Get recombination rate over time"
   ]
  },
  {
   "cell_type": "markdown",
   "metadata": {},
   "source": [
    "write recombination rates file (use VL-dependent r instead of a constant r)\\\n",
    "$r = 1.722e^{-10} \\times VL + 1.39e^{-5}$"
   ]
  },
  {
   "cell_type": "code",
   "execution_count": 7,
   "metadata": {},
   "outputs": [],
   "source": [
    "\n",
    "def get_times(tag):\n",
    "    seq      = np.loadtxt('%s/input/sequence/%s-poly-seq2state.dat'%(HIV_DIR,tag))\n",
    "    times = []\n",
    "    for i in range(len(seq)):\n",
    "        times.append(seq[i][0])\n",
    "    return np.unique(times)\n",
    "\n",
    "\n",
    "for tag in tags:\n",
    "\n",
    "    ppt = tag[:9]\n",
    "    \n",
    "    df_vl_raw    = pd.read_csv('%s/virus load/%s.csv' %(HIV_DIR,ppt), header=None)\n",
    "    df_vl_raw.columns = ['time', 'virus_load']\n",
    "    df_vl = df_vl_raw.sort_values(by='time', ascending=True)\n",
    "\n",
    "    sample_times = get_times(tag)\n",
    "    \n",
    "    times = [int(i) for i in df_vl['time'].values]\n",
    "    virus_load = [np.power(10, i) for i in df_vl['virus_load'].values]\n",
    "    vl_sample = np.zeros(len(sample_times))\n",
    "    \n",
    "#     if sample_times[-1] > times[-1]:\n",
    "#         print(f'CH{tag[-5:]} last time point is {int(sample_times[-1])}, the last point detected VL is {times[-1]}')\n",
    "    #     print(f'there are some time points have no VL')\n",
    "\n",
    "    time_min = np.min([int(times[0]),sample_times[0]])\n",
    "    time_max = np.max([int(times[-1]),sample_times[-1]])\n",
    "    whole_time = np.linspace(time_min,time_max,int(time_max-time_min+1))\n",
    "    \n",
    "    interpolation = lambda a,b: sp_interpolate.interp1d(a,b,kind='linear',fill_value=(virus_load[0], virus_load[-1]), bounds_error=False)\n",
    "    AllVL = interpolation(times, virus_load)(whole_time)\n",
    "\n",
    "    for t_index in range(len(sample_times)):\n",
    "        t = sample_times[t_index]\n",
    "        index = list(whole_time).index(t)\n",
    "        vl_sample[t_index] = AllVL[index]\n",
    "        \n",
    "    # recombination rate over time\n",
    "    f = open('%s/input/r_rates/r-%s.dat'%(HIV_DIR,tag), 'w')\n",
    "    f.write('%s\\n'%'\\t'.join([str((1.722*vl_sample[i]/1000000+0.139)/10000) for i in range(len(vl_sample))]))\n",
    "    f.close()"
   ]
  },
  {
   "cell_type": "markdown",
   "metadata": {},
   "source": [
    "### <a id='mpl'></a> Run C++ MPL code"
   ]
  },
  {
   "cell_type": "markdown",
   "metadata": {},
   "source": [
    "\"src/HIV.sh\" : running MPL code for all HIV data with a VL-dependent r"
   ]
  },
  {
   "cell_type": "code",
   "execution_count": 8,
   "metadata": {},
   "outputs": [],
   "source": [
    "f = open(\"src/HIV.sh\",'w')\n",
    "f.write('g++ main.cpp inf.cpp io.cpp -O3 -mcpu=apple-a14 -std=c++11 -lgsl -lgslcblas -o mpl\\n')\n",
    "\n",
    "for tag in tags:\n",
    "            \n",
    "    f.write('./mpl -d ../data/HIV -i input/sequence/%s-poly-seq2state.dat '%tag)\n",
    "    f.write('-o output/sc-%s.dat -g 10 -m input/Zanini-extended.dat -r input/r_rates/r-%s.dat '%(tag,tag))\n",
    "    f.write('-e input/traitsite/traitsite-%s.dat -es input/traitseq/traitseq-%s.dat '%(tag,tag))\n",
    "    f.write('-ed input/traitdis/traitdis-%s.dat -sc output/covariance/c-%s.dat\\n '%(tag,tag))\n",
    "    \n",
    "f.close()"
   ]
  },
  {
   "cell_type": "markdown",
   "metadata": {},
   "source": [
    "\"src/HIV_notrait.sh\" : running previous MPL code (no trait group) for all HIV data\\\n",
    "In this case, we use the same regularization value (Here gamma = g/N). \\\n",
    "No recombination part since $R_{fl} = 0$ for individual selection"
   ]
  },
  {
   "cell_type": "code",
   "execution_count": 9,
   "metadata": {},
   "outputs": [],
   "source": [
    "f = open(\"src/HIV_notrait.sh\",'w')\n",
    "f.write('g++ notrait/main.cpp notrait/inf.cpp notrait/io.cpp -O3 -mcpu=apple-a14 -lgsl -lgslcblas -o mpl\\n')\n",
    "for tag in tags:\n",
    "    f.write('./mpl -d ../data/HIV -i input/sequence/%s-poly-seq2state.dat '%tag)\n",
    "    f.write('-o notrait/output/sc-%s.dat -g 1e4 -N 1e3 -m input/Zanini-extended.dat\\n'%tag)\n",
    "f.close()"
   ]
  },
  {
   "cell_type": "markdown",
   "metadata": {},
   "source": [
    "\"src/HIV_noR.sh\" : running new MPL code but no recombiination term part for all HIV data\n",
    "We set recombination rate rr to 0 to remove the recombination flux $R_{fl}$"
   ]
  },
  {
   "cell_type": "code",
   "execution_count": 10,
   "metadata": {},
   "outputs": [],
   "source": [
    "f = open(\"src/HIV_noR.sh\",'w')\n",
    "f.write('g++ main.cpp inf.cpp io.cpp -O3 -mcpu=apple-a14 -std=c++11 -lgsl -lgslcblas -o mpl\\n')\n",
    "\n",
    "for tag in tags:\n",
    "    f.write('./mpl -d ../data/HIV -i input/sequence/%s-poly-seq2state.dat '%tag)\n",
    "    f.write('-o noR/output/sc-%s.dat -g 10 -m input/Zanini-extended.dat -rr 0 '%(tag))\n",
    "    f.write('-e input/traitsite/traitsite-%s.dat -es input/traitseq/traitseq-%s.dat '%(tag,tag))\n",
    "    f.write('-ed input/traitdis/traitdis-%s.dat\\n'%tag)\n",
    "f.close()"
   ]
  },
  {
   "cell_type": "markdown",
   "metadata": {},
   "source": [
    "### <a id='deal'></a> Deal with data"
   ]
  },
  {
   "cell_type": "markdown",
   "metadata": {},
   "source": [
    "#### Check if all inferred binary traits are independent\n",
    "Use C++ code to calculate the RREF first（Go to covariance file directory, run g++ rref.cpp -O3 -o rref.out to compile the code and then run Python script）"
   ]
  },
  {
   "cell_type": "code",
   "execution_count": 11,
   "metadata": {},
   "outputs": [
    {
     "name": "stdout",
     "output_type": "stream",
     "text": [
      "Done!\n"
     ]
    }
   ],
   "source": [
    "import importlib\n",
    "importlib.reload(HIV)\n",
    "\n",
    "status = subprocess.run('g++ src/rref.cpp -O3 -std=c++11 -o rref.out', shell=True)\n",
    "\n",
    "HIV.get_independent()\n",
    "\n",
    "status = subprocess.run('rm rref.out', shell=True)"
   ]
  },
  {
   "cell_type": "code",
   "execution_count": 12,
   "metadata": {},
   "outputs": [
    {
     "name": "stdout",
     "output_type": "stream",
     "text": [
      "All inferred binary traits are independent\n"
     ]
    }
   ],
   "source": [
    "import importlib\n",
    "importlib.reload(HIV)\n",
    "\n",
    "Independence = True\n",
    "\n",
    "for tag in tags:\n",
    "\n",
    "    traitsite = HIV.read_file('traitsite/traitsite-'+tag+'.dat')\n",
    "    ne = len(traitsite)\n",
    "    if ne > 0:\n",
    "        continue\n",
    "        \n",
    "    co_rr     = np.loadtxt('data/HIV/output/covariance/rr-c-%s.dat'%tag)\n",
    "    ll = len(co_rr)\n",
    "    \n",
    "    pivots = []\n",
    "    for row in range(ll):\n",
    "        for col in range(ll):\n",
    "            if co_rr[row, col] != 0:\n",
    "                pivots.append(col)\n",
    "                break\n",
    "    \n",
    "    for n in range(ne):\n",
    "        column_index = ll-ne+n\n",
    "        if column_index not in pivots:\n",
    "            Independence = False\n",
    "            print(f'{tag} still has some dependent binary trait, {traitsite[n]}')\n",
    "\n",
    "if Independence == True:\n",
    "    print('All inferred binary traits are independent')"
   ]
  },
  {
   "cell_type": "markdown",
   "metadata": {},
   "source": [
    "#### Dealing with mpl results \n",
    "Normalize the selection coefficients such that the TF nucleotide at each site has a selection coefficient of zero and record information in these 2 csv files.\n",
    "- /analysis/'tag'-analyze.csv \n",
    "    - coefficients in 2 cases (old: without escape part; new: with escape part)\n",
    "    - allele frequencies\n",
    "- /group/escape_group-'tag'.csv \n",
    "    - escape coefficients\n",
    "    - escape frequencies"
   ]
  },
  {
   "cell_type": "code",
   "execution_count": 13,
   "metadata": {},
   "outputs": [
    {
     "name": "stdout",
     "output_type": "stream",
     "text": [
      "Successfully create the analysis and escape group file\n"
     ]
    }
   ],
   "source": [
    "import importlib\n",
    "importlib.reload(HIV)\n",
    "\n",
    "for tag in tags:\n",
    "    HIV.analyze_result(tag,True)\n",
    "    HIV.analyze_result(tag,False)   # without recombination flux\n",
    "\n",
    "print('Successfully create the analysis and escape group file')"
   ]
  },
  {
   "cell_type": "markdown",
   "metadata": {},
   "source": [
    "### <a id='sij'></a> Calculate Δs_ij\n",
    "To quantify the linakge between different variants ($\\Delta \\hat s_{ij}$), we modify the input sequence by converting mutant variant $i$ into wild variant. \n",
    "\n",
    "$\\Delta \\hat s_{ij} = \\hat s_j - \\hat s_j^{\\setminus i}$\n",
    "- $\\hat s_j$ ---  Selection coefficient for variant j\n",
    "- $\\hat s_j^{\\setminus i}$ ---Selection coefficient for variant j calculated by using WT to replace variant i \n",
    "\n",
    "The modifications for individual loci and escape groups are different:\n",
    "- individual loci part\n",
    "   - replace all mutant variant $i$ by its transmitted/founder (TF) nucleotide for all sequences at all time points. \n",
    "- escape part\n",
    "   - change all mutant variants within one epitope into wild type."
   ]
  },
  {
   "cell_type": "code",
   "execution_count": 14,
   "metadata": {},
   "outputs": [],
   "source": [
    "import importlib\n",
    "importlib.reload(HIV)\n",
    "\n",
    "# create the path\n",
    "for tag in tags:\n",
    "    # input sequence\n",
    "    path = 'data/HIV/input/sequence/'+ tag\n",
    "    folder = os.path.exists(path)\n",
    "    if not folder:\n",
    "        os.makedirs(path)\n",
    "    # output inferred coefficients\n",
    "    path = 'data/HIV/output/'+ tag\n",
    "    folder = os.path.exists(path)\n",
    "    if not folder:\n",
    "        os.makedirs(path)\n",
    "\n",
    "g = open(\"src/HIV_sij.sh\",'w')\n",
    "g.close()\n",
    "\n",
    "for tag in tags:\n",
    "    HIV.modify_seq(tag) # Add content to shell script here"
   ]
  },
  {
   "cell_type": "markdown",
   "metadata": {},
   "source": [
    "Dealing with these data."
   ]
  },
  {
   "cell_type": "code",
   "execution_count": 15,
   "metadata": {},
   "outputs": [],
   "source": [
    "'''Need to run'''\n",
    "\n",
    "import importlib\n",
    "importlib.reload(HIV)\n",
    "\n",
    "for tag in tags:\n",
    "    HIV.cal_sij(tag)"
   ]
  }
 ],
 "metadata": {
  "kernelspec": {
   "display_name": "Python 3 (ipykernel)",
   "language": "python",
   "name": "python3"
  },
  "language_info": {
   "codemirror_mode": {
    "name": "ipython",
    "version": 3
   },
   "file_extension": ".py",
   "mimetype": "text/x-python",
   "name": "python",
   "nbconvert_exporter": "python",
   "pygments_lexer": "ipython3",
   "version": "3.10.9"
  },
  "widgets": {
   "application/vnd.jupyter.widget-state+json": {
    "state": {},
    "version_major": 2,
    "version_minor": 0
   }
  }
 },
 "nbformat": 4,
 "nbformat_minor": 4
}
