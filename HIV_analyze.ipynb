{
 "cells": [
  {
   "cell_type": "markdown",
   "metadata": {},
   "source": [
    "## HIV Analysis\n",
    "Here we combine HIV sequence data from [the Los Alamos National Laboratory HIV Sequence Database](https://www.hiv.lanl.gov/content/index) and immunological data to investigate HIV evolution across 14 individuals. This data is contained in the data/HIV/ directory. Supplementary scripts for data processing are stored in HIV.py.\n",
    "\n",
    "We downloaded sequence data for all patients and aligned them with [the HXB2 reference sequence](https://www.hiv.lanl.gov/components/sequence/HIV/asearch/query_one.comp?se_id=K03455) and the corresponding [clade consensus sequence](https://www.hiv.lanl.gov/content/sequence/NEWALIGN/align.html#consensus) using the LANL tool [HIValign](https://www.hiv.lanl.gov/content/sequence/VIRALIGN/viralign.html). We recorded immunological data for these patients in .csv files for analysis."
   ]
  },
  {
   "cell_type": "markdown",
   "metadata": {},
   "source": [
    "## Contents\n",
    "- ### [Libraries and variables](#lib)\n",
    "- ### Data analyze\n",
    "    - [Find escape sites](#poly)\n",
    "    - [MPL](#mpl)\n",
    "    - [Calculate Δs_ij](#sij)"
   ]
  },
  {
   "cell_type": "markdown",
   "metadata": {},
   "source": [
    "### <a id='lib'></a> Libraries and variables"
   ]
  },
  {
   "cell_type": "code",
   "execution_count": 1,
   "metadata": {},
   "outputs": [
    {
     "name": "stdout",
     "output_type": "stream",
     "text": [
      "This notebook was prepared using:\n",
      "python version 3.9.13 (main, Aug 25 2022, 18:24:45) \n",
      "[Clang 12.0.0 ]\n",
      "numpy version 1.21.5\n",
      "pandas version 1.4.4\n"
     ]
    }
   ],
   "source": [
    "print('This notebook was prepared using:')\n",
    "\n",
    "import os\n",
    "import sys\n",
    "print('python version %s' % sys.version)\n",
    "\n",
    "import numpy as np\n",
    "print('numpy version %s' % np.__version__)\n",
    "\n",
    "import pandas as pd\n",
    "print('pandas version %s' % pd.__version__)\n",
    "\n",
    "import re\n",
    "from math import isnan\n",
    "\n",
    "import HIV\n",
    "\n",
    "# GLOBAL VARIABLES\n",
    "\n",
    "NUC = ['-', 'A', 'C', 'G', 'T']\n",
    "\n",
    "ppt = ['700010470', '700010077', '700010058', '700010040', '700010607',\n",
    "       '706010164', '705010198', '705010185', '705010162', '704010042', \n",
    "       '703010256', '703010159', '703010131']\n",
    "\n",
    "\n",
    "# GitHub directories\n",
    "HIV_DIR = 'data/HIV'\n",
    "MPL_DIR = 'src'\n",
    "SIM_DIR = 'data/simulation'\n",
    "FIG_DIR = 'figures'"
   ]
  },
  {
   "cell_type": "markdown",
   "metadata": {},
   "source": [
    "###  <a id='poly'></a>Find escape sites\n",
    "escape sites = polymorphic sites which is nonsynonymous in the reading frame of its epitope.\n",
    "\n",
    "Steps to find escape sites:\n",
    "1. check if this site is in one epitope\n",
    "2. find the reading frame of this epitope and check if this site is nonsynonymous in this reading frame\n",
    "3. count the escape sites in one epitope, if there are less than 3 sites, throw out this epitope\n"
   ]
  },
  {
   "cell_type": "code",
   "execution_count": 3,
   "metadata": {},
   "outputs": [
    {
     "name": "stdout",
     "output_type": "stream",
     "text": [
      "700010470-3 has 3 escape groups, they are [0 1 2 3] [302 303 304 305] [352 353 355]\n",
      "700010470-5 has 3 escape groups, they are [23 24 25] [78 79 81] [149 150 151 152]\n",
      "700010077-3 has 6 escape groups, they are [28 31 32 34 35] [82 83 84 85] [87 88 89] [122 123 124 125] [149 150 151 152 153 154 156 157 158 159 160 161 162 163 164 165 166 167\n",
      " 168 169 170 171] [186 187 188 189 190]\n",
      "700010077-5 has no escape site\n",
      "700010058-3 has 1 escape groups, they are [60 61 62 63]\n",
      "700010058-5 has no escape site\n",
      "700010040-3 has 3 escape groups, they are [18 19 20 21] [257 258 259] [286 287 288 290 291]\n",
      "700010040-5 has no escape site\n",
      "700010607-3 has 1 escape groups, they are [198 199 200 201 202]\n",
      "700010607-5 has no escape site\n",
      "706010164-3 has 3 escape groups, they are [86 87 88 89] [182 183 184 185 186 187 188] [453 454 455 456 457 458]\n",
      "706010164-5 has no escape site\n",
      "705010198-3 has 1 escape groups, they are [194 195 196]\n",
      "705010198-5 has no escape site\n",
      "705010185-3 has no escape site\n",
      "705010185-5 has 1 escape groups, they are [2 3 4 5 6]\n",
      "705010162-3 has 2 escape groups, they are [290 291 292 293 294 295 296 297 298 299 300 301 302 303 304 305 306 307\n",
      " 308 309 310 311 312 313 314 315 316 317] [334 335 337]\n",
      "705010162-5 has 3 escape groups, they are [6 7 8] [30 31 33] [38 39 40 42 43]\n",
      "704010042-3 has 2 escape groups, they are [200 201 202 203 204 205 207 208 210] [660 661 662 663 664 665]\n",
      "704010042-5 has no escape site\n",
      "703010256-3 has 4 escape groups, they are [28 29 30 31 32 33] [345 346 347 348 349] [362 363 364 366] [423 424 427]\n",
      "703010256-5 has 1 escape groups, they are [169 170 171 172 174 175 176 177]\n",
      "703010159-3 has 2 escape groups, they are [370 371 372 374 375 376] [417 418 420 421 422 423 424]\n",
      "703010159-5 has no escape site\n",
      "703010131-3 has 1 escape groups, they are [618 619 620 621 624]\n",
      "703010131-5 has 1 escape groups, they are [14 15 16 19]\n"
     ]
    }
   ],
   "source": [
    "from imp import reload\n",
    "\n",
    "reload(HIV)\n",
    "\n",
    "min_n = 2\n",
    "\n",
    "for i in range(len(ppt)):\n",
    "    for n in range(2):\n",
    "        tag = ppt[i] + '-' + str(3+2*n)\n",
    "        HIV.find_site(tag,min_n)"
   ]
  },
  {
   "cell_type": "markdown",
   "metadata": {},
   "source": [
    "checking if the TF sequence is correct"
   ]
  },
  {
   "cell_type": "code",
   "execution_count": 4,
   "metadata": {},
   "outputs": [
    {
     "name": "stdout",
     "output_type": "stream",
     "text": [
      "no problem\n"
     ]
    }
   ],
   "source": [
    "from imp import reload\n",
    "\n",
    "reload(HIV)\n",
    "\n",
    "for k in range(len(ppt)):\n",
    "    for n in range(2):\n",
    "        tag = ppt[k] + '-' + str(3+2*n)\n",
    "        polysite = HIV.read_file('polysite/'+tag+'-polysite.dat')\n",
    "        TFseq    = HIV.read_file('polyseq/polysequence-'+tag+'.dat')\n",
    "        df = pd.read_csv('%s/interim/%s-poly.csv' %(HIV_DIR,tag), comment='#', memory_map=True)\n",
    "        for i in range(len(polysite)):\n",
    "            for j in range(len(polysite[i])):\n",
    "                n_poly = df[df['polymorphic_index'] == polysite[i][j]]\n",
    "                TF     = n_poly.iloc[0].TF\n",
    "                TF_in  = NUC.index(TF)\n",
    "                if TFseq[i][j] != TF_in:\n",
    "                    print('there is something wrong with TF sequence for %s'%tag)\n",
    "print('no problem')"
   ]
  },
  {
   "cell_type": "markdown",
   "metadata": {},
   "source": [
    "### <a id='mpl'></a> MPL"
   ]
  },
  {
   "cell_type": "code",
   "execution_count": 4,
   "metadata": {},
   "outputs": [],
   "source": [
    "f = open(\"%s/run.sh\"%MPL_DIR,'w')\n",
    "f.write('g++ main.cpp inf.cpp io.cpp -O3 -mcpu=apple-a14 -lgsl -lgslcblas -o mpl\\n')\n",
    "    \n",
    "for k in range(len(ppt)):\n",
    "     for n in range(2):\n",
    "        tag = ppt[k] + '-' + str(3+2*n)\n",
    "        f.write('./mpl -d ../../data/HIV -i input/sequence/%s-poly-seq2state.dat \\\n",
    "                -o output/sc-%s.dat -g 1e4 -N 1e3 -m input/Zanini-extended.dat \\\n",
    "                -p input/polysite/%s-polysite.dat -ps input/polyseq/polysequence-%s.dat\\n'%(tag,tag,tag,tag))\n",
    "        \n",
    "f.close()"
   ]
  },
  {
   "cell_type": "markdown",
   "metadata": {},
   "source": [
    "dealing with mpl results and record information in these 2 csv files.\n",
    "- /analysis/'tag'-analyze.csv \n",
    "    - coefficients in 2 cases (old: without escape part and new: with escape part)\n",
    "    - allele frequencies\n",
    "- /poly/'tag'.csv \n",
    "    - escape coefficients\n",
    "    - escape frequencies"
   ]
  },
  {
   "cell_type": "code",
   "execution_count": 12,
   "metadata": {},
   "outputs": [
    {
     "name": "stdout",
     "output_type": "stream",
     "text": [
      "700010470-3\n",
      "700010470-5\n",
      "700010077-3\n",
      "700010077-5\n",
      "700010058-3\n",
      "700010058-5\n",
      "700010040-3\n",
      "700010040-5\n",
      "700010607-3\n",
      "700010607-5\n",
      "706010164-3\n",
      "706010164-5\n",
      "705010198-3\n",
      "705010198-5\n",
      "705010185-3\n",
      "705010185-5\n",
      "705010162-3\n",
      "705010162-5\n",
      "704010042-3\n",
      "704010042-5\n",
      "703010256-3\n",
      "703010256-5\n",
      "703010159-3\n",
      "703010159-5\n",
      "703010131-3\n",
      "703010131-5\n"
     ]
    }
   ],
   "source": [
    "from imp import reload\n",
    "\n",
    "reload(HIV)\n",
    "\n",
    "for i in range(len(ppt)):\n",
    "    for n in range(2):\n",
    "        tag = ppt[i] + '-' + str(3+2*n)\n",
    "        HIV.analyze_result(tag)\n",
    "        print('%s'%tag)"
   ]
  },
  {
   "cell_type": "markdown",
   "metadata": {},
   "source": [
    "### <a id='sij'></a> Calculate Δs_ij\n",
    "$\\Delta \\hat s_{ij} = \\hat s_j - \\hat s_j^{\\setminus i}$\n",
    "- $\\hat s_j$ ---  Selection coefficient for variant j\n",
    "- $\\hat s_j^{\\setminus i}$ ---Selection coefficient for variant j calculated by using WT to replace variant i "
   ]
  },
  {
   "cell_type": "markdown",
   "metadata": {},
   "source": [
    "modify the input sequence by converting mutant variant $i$ into wild variant. \n",
    "- individual loci part\n",
    "   - replace all mutant variant $i$ by its transmitted/founder (TF) nucleotide for all sequences at all time points. \n",
    "- escape part\n",
    "   - change all mutant variants within one epitope into wild type."
   ]
  },
  {
   "cell_type": "code",
   "execution_count": 72,
   "metadata": {},
   "outputs": [],
   "source": [
    "from imp import reload\n",
    "\n",
    "reload(HIV)\n",
    "\n",
    "# create the path\n",
    "for i in range(len(ppt)):\n",
    "    for n in range(2):\n",
    "        tag = ppt[i] + '-' + str(3+2*n)\n",
    "        # input sequence\n",
    "        path = 'data/HIV/input/sequence/'+ tag\n",
    "        folder = os.path.exists(path)\n",
    "        if not folder:\n",
    "            os.makedirs(path)\n",
    "        # output inferred coefficients\n",
    "        path = 'data/HIV/output/'+ tag\n",
    "        folder = os.path.exists(path)\n",
    "        if not folder:\n",
    "            os.makedirs(path)\n",
    "            \n",
    "g = open('%s/sij.sh'%(MPL_DIR), \"w\")\n",
    "g.write('g++ main.cpp inf.cpp io.cpp -O3 -mcpu=apple-a14 -lgsl -lgslcblas -o mpl\\n')\n",
    "g.close()\n",
    "\n",
    "for i in range(len(ppt)):\n",
    "    for n in range(2):\n",
    "        tag = ppt[i] + '-' + str(3+2*n)\n",
    "        HIV.modify_seq(tag)"
   ]
  },
  {
   "cell_type": "markdown",
   "metadata": {},
   "source": [
    "Dealing with these data."
   ]
  },
  {
   "cell_type": "code",
   "execution_count": 77,
   "metadata": {},
   "outputs": [],
   "source": [
    "from imp import reload\n",
    "\n",
    "reload(HIV)\n",
    "\n",
    "ppt = ['700010470', '700010077', '700010058', '700010040', '700010607',\n",
    "       '706010164', '705010198', '705010185', '705010162', '704010042', \n",
    "       '703010256', '703010159', '703010131']\n",
    "\n",
    "for k in range(len(ppt)):\n",
    "    for n in range(2):\n",
    "        tag = ppt[k] + '-' + str(3+2*n)\n",
    "        HIV.cal_sij(tag)\n"
   ]
  }
 ],
 "metadata": {
  "kernelspec": {
   "display_name": "Python 3 (ipykernel)",
   "language": "python",
   "name": "python3"
  },
  "language_info": {
   "codemirror_mode": {
    "name": "ipython",
    "version": 3
   },
   "file_extension": ".py",
   "mimetype": "text/x-python",
   "name": "python",
   "nbconvert_exporter": "python",
   "pygments_lexer": "ipython3",
   "version": "3.9.13"
  }
 },
 "nbformat": 4,
 "nbformat_minor": 4
}
