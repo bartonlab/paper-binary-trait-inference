{
 "cells": [
  {
   "cell_type": "markdown",
   "metadata": {},
   "source": [
    "# <font color = red> Simulation Analyze\n",
    "This notebook records the parameters for Wright-Fisher simulations used to generate our test data sets, as well as commands for running infernce algorithms on the test data and compiling the results. "
   ]
  },
  {
   "cell_type": "markdown",
   "metadata": {},
   "source": [
    "## Contents\n",
    "- ### [Libraries and variables](#lib)\n",
    "- ### Data analyze\n",
    "    - [Generation of test data through Wright-Fisher simulations](#sim)\n",
    "    - [Repeating simulation](#rep)\n",
    "    - [Running the inference algorithms and compiling output](#nsdt)\n",
    "    - [Dealing with the output](#deal)"
   ]
  },
  {
   "cell_type": "markdown",
   "metadata": {},
   "source": [
    "### <a id='lib'></a> Libraries and variables"
   ]
  },
  {
   "cell_type": "code",
   "execution_count": 1,
   "metadata": {},
   "outputs": [
    {
     "name": "stdout",
     "output_type": "stream",
     "text": [
      "This notebook was prepared using:\n",
      "python version 3.10.9 | packaged by conda-forge | (main, Feb  2 2023, 20:26:08) [Clang 14.0.6 ]\n",
      "numpy version 1.24.2\n"
     ]
    }
   ],
   "source": [
    "# Full library list and version numbers\n",
    "\n",
    "print('This notebook was prepared using:')\n",
    "\n",
    "import sys\n",
    "print('python version %s' % sys.version)\n",
    "\n",
    "import numpy as np\n",
    "print('numpy version %s' % np.__version__)\n",
    "\n",
    "import random\n",
    "\n",
    "import pandas as pd\n",
    "\n",
    "import sklearn as sk\n",
    "from sklearn.metrics import roc_auc_score\n",
    "\n",
    "try:\n",
    "    import itertools.izip as zip\n",
    "except ImportError:\n",
    "    import itertools\n",
    "\n",
    "import importlib\n",
    "import simulation as sim\n",
    "\n",
    "# GitHub directories\n",
    "HIV_DIR = 'data/HIV'\n",
    "MPL_DIR = 'src/MPL'\n",
    "SIM_DIR = 'data/simulation'\n",
    "FIG_DIR = 'figures'"
   ]
  },
  {
   "cell_type": "markdown",
   "metadata": {},
   "source": [
    "<a id='sim'></a>\n",
    "### Single Wright-Fisher simulation\n",
    "The fitness model work like this:\n",
    "$f_a = 1 + \\sum_i^L s_i g_i^a + \\sum_n^{N_t} s_n g_n^a$\n",
    "\n",
    "This simulation begins with all wild type, which only has 2 alleles (wild type and mutant type).\n",
    "\n",
    "Wright-Fisher simulations are performed using simulation.py. The output of these simulations is saved for processing. \n",
    "\n",
    "In this part, we use python code to run mpl, whose result is similar to C code."
   ]
  },
  {
   "cell_type": "code",
   "execution_count": 90,
   "metadata": {},
   "outputs": [],
   "source": [
    "importlib.reload(sim)\n",
    "\n",
    "pdata = {\n",
    "    'n_gen':    1000,                                   # number of generations\n",
    "    'N':        1000,                                   # population size\n",
    "    'mu':       2e-4,                                   # mutation rate\n",
    "    'r':        2e-4,                                   # recombination rate\n",
    "    't0':       0,                                      # start generation\n",
    "    'T':        1000,                                   # final generation\n",
    "    'ns':       [10, 20, 30, 40, 50,  80, 100, 1000],   # number of sequences to sample at each time point\n",
    "    'dt':       [ 1,  5, 10, 20, 50],                   # spacing between generations\n",
    "    'xfile':    '0_ns1000_dt1',                         # input file name\n",
    "    'n_ben':    10,                                     # number of beneficial mutations\n",
    "    'n_neu':    30,                                     # number of neutral mutations\n",
    "    'n_del':    10,                                     # number of deleterious mutations\n",
    "    's_ben':    0.02,                                   # selection coefficient of beneficial mutations\n",
    "    's_neu':    0,                                      # selection coefficient of neutral mutations\n",
    "    's_del':    -0.02,                                  # selection coefficient of deleterious mutations\n",
    "    's_pol':    0.1,                                    # trait coefficient\n",
    "    'gamma':    1,                                      # regularization value\n",
    "    'alphabet': ['A', 'T'],                             # all possible alleles                              \n",
    "    'escape_group':  [[1,2,3],[11,12,13]],              # binary trait sites\n",
    "    'save_cov': True,                                   # if true, print covariance matrix\n",
    "    'output' :  True,                                   # if true, print output\n",
    "}\n",
    "\n",
    "# sim.simulate(**pdata)\n",
    "# sim.run_mpl_binary(**pdata)"
   ]
  },
  {
   "cell_type": "markdown",
   "metadata": {},
   "source": [
    "<a id='rep'></a>\n",
    "### Repeating simulation\n",
    "In this part, we run multiple simulations and use C++ code to get inferred coefficients."
   ]
  },
  {
   "cell_type": "code",
   "execution_count": 12,
   "metadata": {},
   "outputs": [],
   "source": [
    "import json\n",
    "from importlib import reload\n",
    "reload(sim)\n",
    "\n",
    "SIM_DIR = 'data/simulation'\n",
    "n_sim   = 100\n",
    "\n",
    "pdata['output'] = False\n",
    "pdata['save_cov'] = False\n",
    "\n",
    "# # get random escape groups for 100 simulations\n",
    "# escape_groups = []\n",
    "# for n in range(n_sim):\n",
    "#     random_numbers   = random.sample(range(50), 6)\n",
    "#     escape_group_raw = [random_numbers[:3],random_numbers[3:]]\n",
    "#     escape_group     = [sorted(sublist) for sublist in escape_group_raw]\n",
    "#     escape_groups.append(escape_group)\n",
    "    \n",
    "#     # trait sites \n",
    "#     f = open('%s/jobs/traitsite/traitsite-%s.dat'%(SIM_DIR,n), 'w')\n",
    "#     for i in range(len(escape_group)):\n",
    "#         f.write('%s\\n'%'\\t'.join([str(ii) for ii in escape_group[i]]))\n",
    "#     f.close()\n",
    "    \n",
    "#     # distance between 2 trait sites\n",
    "#     f = open('%s/jobs/traitdis/traitdis-%s.dat'%(SIM_DIR,n), 'w')\n",
    "#     for i in range(len(escape_group)):\n",
    "#         i_dis = []\n",
    "#         for j in range(len(escape_group[i])-1):\n",
    "#             i_dis.append(int(escape_group[i][j+1]-escape_group[i][j]))\n",
    "#         f.write('%s\\n'%'\\t'.join([str(ii) for ii in i_dis]))\n",
    "#     f.close()\n",
    "\n",
    "# # save and load escape group information\n",
    "# with open(\"%s/jobs/escape_groups.dat\"%SIM_DIR, 'w') as file:\n",
    "#     json.dump(escape_groups, file)\n",
    "\n",
    "# with open(\"%s/jobs/escape_groups.dat\"%SIM_DIR, 'r') as file:\n",
    "#     escape_groups = json.load(file)\n",
    "\n",
    "# # inference\n",
    "# for n in range(n_sim):\n",
    "#     pdata['escape_group'] = escape_groups[i]\n",
    "#     pdata['xfile'] = 'jobs/sequences/example-'+str(i)+'_ns1000_dt1' \n",
    "#     pdata['yfile'] = 'jobs/output/sc-'+str(i)   \n",
    "#     sim.simulate(**pdata)\n",
    "#     sim.run_mpl_binary(**pdata)\n",
    "#     sim.run_mpl_binary_noR(**pdata)\n",
    "\n",
    "# print('we have done %d times simulations'%n)"
   ]
  },
  {
   "cell_type": "code",
   "execution_count": 68,
   "metadata": {},
   "outputs": [
    {
     "name": "stdout",
     "output_type": "stream",
     "text": [
      "we have produced the shell script run.sh\n"
     ]
    }
   ],
   "source": [
    "'binary C code'\n",
    "f = open(\"src/run_sim.sh\",'w')\n",
    "f.write('g++ binary/main.cpp binary/inf_binary.cpp binary/io_binary.cpp -march=native -lgsl -lgslcblas -o mpl\\n')\n",
    "n = 100\n",
    "for n in range(n_sim):\n",
    "    f.write('./mpl -d ../data/simulation -i jobs/sequences/example-%d_ns1000_dt1.dat '%n)\n",
    "    f.write('-o jobs/output/sc-%d.dat -g 1 -N 1e3 -mu 2e-4 -rr 2e-4 '%n)\n",
    "    f.write('-e jobs/traitsite/traitsite-%d.dat -es traitseq.dat -ed jobs/traitdis/traitdis-%d.dat '%(n,n))\n",
    "    f.write('-sc jobs/covariance/covariance-%d.dat\\n'%(n))\n",
    "    \n",
    "f.close()\n",
    "\n",
    "print('we have produced the shell script run.sh')"
   ]
  },
  {
   "cell_type": "code",
   "execution_count": 100,
   "metadata": {},
   "outputs": [
    {
     "name": "stdout",
     "output_type": "stream",
     "text": [
      "we have produced the shell script run.sh\n"
     ]
    }
   ],
   "source": [
    "'multiple C code'\n",
    "f = open(\"src/run_sim_mul.sh\",'w')\n",
    "f.write('g++ main.cpp inf.cpp io.cpp -march=native -lgsl -lgslcblas -o mpl\\n')\n",
    "n_sim = 100\n",
    "for n in range(n_sim):\n",
    "    f.write('./mpl -d ../data/simulation -i jobs/sequences/example-%d_ns1000_dt1.dat '%n)\n",
    "    f.write('-o jobs/output_multiple/sc-%d.dat -g 1 -mu 2e-4 -rr 2e-4 -q 2 '%n)\n",
    "    f.write('-e jobs/traitsite/traitsite-%d.dat -es traitseq.dat -ed jobs/traitdis/traitdis-%d.dat\\n'%(n,n))\n",
    "    \n",
    "f.close()\n",
    "\n",
    "print('we have produced the shell script run.sh')"
   ]
  },
  {
   "cell_type": "code",
   "execution_count": 45,
   "metadata": {},
   "outputs": [],
   "source": [
    "nB = pdata['n_ben']\n",
    "nD = pdata['n_del']\n",
    "nN = pdata['n_neu']\n",
    "ne = 2\n",
    "seq_length = nB+nD+nN\n",
    "\n",
    "f = open('%s/mpl_collected_C.csv'%SIM_DIR,'w')\n",
    "f.write('trajectory,ns,delta_t')\n",
    "for i in range(seq_length):\n",
    "    f.write(',sc_%d'%i)\n",
    "for i in range(ne):\n",
    "    f.write(',pc_%d'%i)\n",
    "f.write('\\n')\n",
    "\n",
    "for k in range(n):\n",
    "    sc = np.loadtxt('%s/jobs/output/sc-%d.dat'%(SIM_DIR,k))\n",
    "    f.write('%d,1000,1'%(k))\n",
    "    for ii in range(seq_length):\n",
    "        f.write(',%f'%(sc[2*ii+1]-sc[2*ii]))\n",
    "    for ii in range(ne):\n",
    "        f.write(',%f'%sc[-ne+ii])\n",
    "    f.write('\\n')\n",
    "f.close()"
   ]
  },
  {
   "cell_type": "markdown",
   "metadata": {},
   "source": [
    "<a id='nsdt'></a>\n",
    "### Running the inference algorithms and compiling output\n",
    "For one simulation, use different n_s and Δt to get the result"
   ]
  },
  {
   "cell_type": "code",
   "execution_count": 72,
   "metadata": {},
   "outputs": [],
   "source": [
    "from importlib import reload\n",
    "reload(sim)\n",
    "\n",
    "ns_vals = pdata['ns']\n",
    "dt_vals = pdata['dt']\n",
    "\n",
    "n_sim = 100\n",
    "\n",
    "g = open(\"src/sim_expand.sh\",'w')\n",
    "g.write('g++ binary/main.cpp binary/inf_binary.cpp binary/io_binary.cpp -march=native -lgsl -lgslcblas -o mpl\\n')\n",
    "for k in range(n_sim):\n",
    "    pdata['xfile'] = 'example-'+str(k)\n",
    "#     sim.py2c(**pdata)\n",
    "    for i in range(len(ns_vals)):\n",
    "        for j in range(len(dt_vals)):\n",
    "            g.write('./mpl -d ../data/simulation ')\n",
    "            g.write('-i jobs/sequences/nsdt/example-%d_ns%d_dt%d.dat '%(k,ns_vals[i],dt_vals[j]))\n",
    "            g.write('-o jobs/output/nsdt/sc-%d_ns%d_dt%d.dat '%(k,ns_vals[i],dt_vals[j]))\n",
    "            g.write('-g 1 -N 1e3 -mu 2e-4 -rr 2e-4 -e jobs/traitsite/traitsite-%d.dat '%(k))\n",
    "            g.write('-es traitseq.dat -ed jobs/traitdis/traitdis-%d.dat\\n'%(k))\n",
    "g.close()\n"
   ]
  },
  {
   "cell_type": "markdown",
   "metadata": {},
   "source": [
    "<a id='deal'></a>\n",
    "### Dealing with the output\n",
    "collect coefficients for all simulations and write the result into mpl_collected.csv."
   ]
  },
  {
   "cell_type": "code",
   "execution_count": 95,
   "metadata": {},
   "outputs": [
    {
     "name": "stdout",
     "output_type": "stream",
     "text": [
      "collect all coefficients for 100 simulations\n"
     ]
    }
   ],
   "source": [
    "nB = pdata['n_ben']\n",
    "nD = pdata['n_del']\n",
    "nN = pdata['n_neu']\n",
    "nP = 2\n",
    "seq_length = nB+nD+nN\n",
    "\n",
    "f = open('%s/mpl_collected_all.csv'%SIM_DIR,'w')\n",
    "f.write('trajectory,t0,T,ns,delta_t')\n",
    "for i in range(seq_length):\n",
    "    f.write(',sc_%d'%i)\n",
    "for i in range(nP):\n",
    "    f.write(',pc_%d'%i)\n",
    "f.write('\\n')\n",
    "\n",
    "for k in range(n_sim):\n",
    "    for i in range(len(ns_vals)):\n",
    "        for j in range(len(dt_vals)):\n",
    "            sc = np.loadtxt('%s/jobs/output/nsdt/sc-%d_ns%d_dt%d.dat'%(SIM_DIR,k,ns_vals[i],dt_vals[j]))\n",
    "            f.write('%d,0,1000,%d,%d'%(k,ns_vals[i],dt_vals[j]))\n",
    "            for ii in range(seq_length):\n",
    "                f.write(',%f'%sc[ii])\n",
    "            for ii in range(nP):\n",
    "                f.write(',%f'%sc[-nP+ii])\n",
    "            f.write('\\n')\n",
    "f.close()\n",
    "\n",
    "print('collect all coefficients for %d simulations'%n_sim)"
   ]
  },
  {
   "cell_type": "code",
   "execution_count": 103,
   "metadata": {},
   "outputs": [
    {
     "name": "stdout",
     "output_type": "stream",
     "text": [
      "collect all coefficients for 100 simulations\n"
     ]
    }
   ],
   "source": [
    "nB = pdata['n_ben']\n",
    "nD = pdata['n_del']\n",
    "nN = pdata['n_neu']\n",
    "nP = 2\n",
    "seq_length = nB+nD+nN\n",
    "\n",
    "f = open('%s/mpl_collected_multiple.csv'%SIM_DIR,'w')\n",
    "f.write('trajectory,t0,T,ns,delta_t')\n",
    "for i in range(seq_length):\n",
    "    f.write(',sc_%d'%i)\n",
    "for i in range(nP):\n",
    "    f.write(',pc_%d'%i)\n",
    "f.write('\\n')\n",
    "\n",
    "for k in range(n_sim):\n",
    "    sc = np.loadtxt('%s/jobs/output_multiple/sc-%d.dat'%(SIM_DIR,k))\n",
    "    f.write('%d,0,1000,1000,1'%(k))\n",
    "    for ii in range(seq_length):\n",
    "        f.write(',%f'%(sc[2*ii+1]-sc[2*ii]))\n",
    "    for ii in range(nP):\n",
    "        f.write(',%f'%sc[-nP+ii])\n",
    "    f.write('\\n')\n",
    "f.close()\n",
    "\n",
    "print('collect all coefficients for %d simulations'%n_sim)"
   ]
  },
  {
   "cell_type": "markdown",
   "metadata": {},
   "source": [
    "calculate AUROC for beneficial and deleterious mutation and NRMSE for trait part\n",
    "write these results into mpl_collected_extended.csv"
   ]
  },
  {
   "cell_type": "code",
   "execution_count": 98,
   "metadata": {},
   "outputs": [
    {
     "name": "stdout",
     "output_type": "stream",
     "text": [
      "collect all data for 100 simulations\n"
     ]
    }
   ],
   "source": [
    "nB = pdata['n_ben']\n",
    "nD = pdata['n_del']\n",
    "nN = pdata['n_neu']\n",
    "nP = 2\n",
    "fB = pdata['s_ben']\n",
    "fD = pdata['s_del']\n",
    "fP = pdata['s_pol']\n",
    "\n",
    "true_ben = [1 if i in                        range(nB) else 0 for i in range(seq_length)];\n",
    "true_del = [1 if i in range(seq_length-nD, seq_length) else 0 for i in range(seq_length)];\n",
    "true_neu = [1 if i in range(        nB, seq_length-nD) else 0 for i in range(seq_length)];\n",
    "\n",
    "coefs = ['sc_%d' % j for j in range(seq_length)]\n",
    "\n",
    "df              = pd.read_csv('%s/mpl_collected_all.csv'%SIM_DIR, memory_map=True);\n",
    "\n",
    "# difference between inferred coefficients and true coefficients\n",
    "for i in range(seq_length):\n",
    "    if   true_ben[i]: df['d_sc%d' % i] = df['sc_%d' % i] - fB;\n",
    "    elif true_del[i]: df['d_sc%d' % i] = df['sc_%d' % i] - fD;\n",
    "    elif true_neu[i]: df['d_sc%d' % i] = df['sc_%d' % i];\n",
    "for i in range(nP):\n",
    "    df['d_pc%d' % i] = df['pc_%d' % i] - fP;\n",
    "\n",
    "# AUROC for beneficial and deleterious mutation\n",
    "df['AUROC_ben'] = pd.Series(data=[roc_auc_score(true_ben, np.array(df.iloc[i][coefs])) for i in range(len(df))]);\n",
    "df['AUROC_del'] = pd.Series(data=[roc_auc_score(true_del,-np.array(df.iloc[i][coefs])) for i in range(len(df))]);\n",
    "\n",
    "# error for trait part\n",
    "norm  = nP*(fP**2)\n",
    "error = 0\n",
    "for i in range(nP):\n",
    "    error += (df['pc_%d' % i] - fP) ** 2\n",
    "df['error_pol'] = np.sqrt(error/norm)\n",
    "\n",
    "\n",
    "df.to_csv('%s/mpl_collected_extended.csv'%SIM_DIR)\n",
    "\n",
    "print('collect all data for %d simulations'%n_sim)"
   ]
  },
  {
   "cell_type": "code",
   "execution_count": null,
   "metadata": {},
   "outputs": [],
   "source": []
  }
 ],
 "metadata": {
  "kernelspec": {
   "display_name": "Python 3 (ipykernel)",
   "language": "python",
   "name": "python3"
  },
  "language_info": {
   "codemirror_mode": {
    "name": "ipython",
    "version": 3
   },
   "file_extension": ".py",
   "mimetype": "text/x-python",
   "name": "python",
   "nbconvert_exporter": "python",
   "pygments_lexer": "ipython3",
   "version": "3.10.9"
  }
 },
 "nbformat": 4,
 "nbformat_minor": 4
}
