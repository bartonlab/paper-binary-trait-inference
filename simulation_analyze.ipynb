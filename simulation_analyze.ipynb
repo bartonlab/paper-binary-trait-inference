{
 "cells": [
  {
   "cell_type": "markdown",
   "metadata": {},
   "source": [
    "# <font color = red> Simulation Analyze\n",
    "This notebook records the parameters for Wright-Fisher simulations used to generate our test data sets, as well as commands for running infernce algorithms on the test data and compiling the results. "
   ]
  },
  {
   "cell_type": "markdown",
   "metadata": {},
   "source": [
    "## Contents\n",
    "- ### [Libraries and variables](#lib)\n",
    "- ### Data analyze\n",
    "    - [Generation of test data through Wright-Fisher simulations](#sim)\n",
    "    - [Repeating simulation](#rep)\n",
    "    - [Running the inference algorithms and compiling output](#nsdt)\n",
    "    - [Dealing with the output](#deal)"
   ]
  },
  {
   "cell_type": "markdown",
   "metadata": {},
   "source": [
    "### <a id='lib'></a> Libraries and variables"
   ]
  },
  {
   "cell_type": "code",
   "execution_count": 1,
   "metadata": {},
   "outputs": [
    {
     "name": "stdout",
     "output_type": "stream",
     "text": [
      "This notebook was prepared using:\n",
      "python version 3.9.13 (main, Aug 25 2022, 18:24:45) \n",
      "[Clang 12.0.0 ]\n",
      "numpy version 1.21.5\n"
     ]
    }
   ],
   "source": [
    "# Full library list and version numbers\n",
    "\n",
    "print('This notebook was prepared using:')\n",
    "\n",
    "import sys\n",
    "print('python version %s' % sys.version)\n",
    "\n",
    "import numpy as np\n",
    "print('numpy version %s' % np.__version__)\n",
    "\n",
    "import random\n",
    "\n",
    "import pandas as pd\n",
    "\n",
    "import sklearn as sk\n",
    "from sklearn.metrics import roc_auc_score\n",
    "\n",
    "try:\n",
    "    import itertools.izip as zip\n",
    "except ImportError:\n",
    "    import itertools\n",
    "\n",
    "import simulation as sim\n",
    "\n",
    "# GitHub directories\n",
    "HIV_DIR = 'data/HIV'\n",
    "MPL_DIR = 'src/MPL'\n",
    "SIM_DIR = 'data/simulation'\n",
    "FIG_DIR = 'figures'\n",
    "HIV_MPL_DIR = 'src/MPL/HIV'"
   ]
  },
  {
   "cell_type": "markdown",
   "metadata": {},
   "source": [
    "<a id='sim'></a>\n",
    "### Generation of test data through Wright-Fisher simulations\n",
    "The fitness model work like this:\n",
    "$f_a = 1 + \\sum_i^L s_i g_i^a + \\sum_n^{N_p} s_n g_n^a$\n",
    "\n",
    "This simulation begins with all wild type, which only has 2 alleles (wild type and mutant type).\n",
    "\n",
    "Wright-Fisher simulations are performed using simulation.py. The output of these simulations is saved for processing. \n",
    "\n",
    "In this part, we use python code to run mpl, whose result is similar to C code."
   ]
  },
  {
   "cell_type": "code",
   "execution_count": 8,
   "metadata": {},
   "outputs": [
    {
     "name": "stdout",
     "output_type": "stream",
     "text": [
      "Simulation completes\n",
      "beginning with wild type, sequence has 2 types of alleles, totally run 1000 generations\n",
      "the length of the sequence is 50, with 10 beneficial sites (0.02) and 10 deleterious sites（-0.02)\n",
      "containing 2 trait groups with trait coefficients equal to 0.1, they are \n",
      "[[1, 2, 3], [11, 12, 13]]\n",
      "Calculation completes\n",
      "inferred beneficial selection coefficients are:\n",
      "[[0.01558462]\n",
      " [0.01511324]\n",
      " [0.01905374]\n",
      " [0.0237253 ]\n",
      " [0.01280081]\n",
      " [0.01603826]\n",
      " [0.01896436]\n",
      " [0.01336382]\n",
      " [0.02320998]\n",
      " [0.0151462 ]]\n",
      "inferred neutral selection coefficients are:\n",
      "[[ 0.0038976 ]\n",
      " [-0.01560297]\n",
      " [-0.00960473]\n",
      " [ 0.00108885]\n",
      " [ 0.00476186]\n",
      " [ 0.00799394]\n",
      " [-0.00991255]\n",
      " [ 0.00191754]\n",
      " [ 0.00059171]\n",
      " [-0.0035239 ]\n",
      " [ 0.01177641]\n",
      " [ 0.01258354]\n",
      " [-0.00039107]\n",
      " [ 0.00505423]\n",
      " [ 0.00718061]\n",
      " [-0.00881666]\n",
      " [ 0.00576916]\n",
      " [ 0.00362709]\n",
      " [-0.00177835]\n",
      " [-0.00485225]\n",
      " [-0.00615877]\n",
      " [ 0.00034462]\n",
      " [-0.01221871]\n",
      " [-0.00076708]\n",
      " [-0.01102052]\n",
      " [ 0.00163876]\n",
      " [-0.00999011]\n",
      " [-0.01036008]\n",
      " [-0.00190997]\n",
      " [ 0.00320615]]\n",
      "inferred deleterious selection coefficients are:\n",
      "[[-0.00516912]\n",
      " [-0.01811568]\n",
      " [-0.02493293]\n",
      " [-0.02037591]\n",
      " [-0.02076388]\n",
      " [-0.0100259 ]\n",
      " [-0.00694262]\n",
      " [-0.01368929]\n",
      " [-0.00759214]\n",
      " [-0.0236069 ]]\n",
      "inferred trait coefficients are:\n",
      "[[0.08569499]\n",
      " [0.07618583]]\n"
     ]
    }
   ],
   "source": [
    "from imp import reload\n",
    "reload(sim)\n",
    "\n",
    "pdata = {\n",
    "    'n_gen':    1000,                                   # number of generations\n",
    "    'N':        1000,                                   # population size\n",
    "    'mu':       2e-4,                                   # mutation rate\n",
    "    't0':       0,                                      # start generation\n",
    "    'T':        1000,                                   # final generation\n",
    "    'ns':       [10, 20, 30, 40, 50,  80, 100, 1000],   # number of sequences to sample at each time point\n",
    "    'dt':       [ 1,  5, 10, 20, 50],                   # spacing between generations\n",
    "    'xfile':    'example-0_ns1000_dt1',                 # input file name\n",
    "    'yfile':    'example',                              # output file name\n",
    "    'n_ben':    10,                                     # number of beneficial mutations\n",
    "    'n_neu':    30,                                     # number of neutral mutations\n",
    "    'n_del':    10,                                     # number of deleterious mutations\n",
    "    'n_pol':    2,                                      # number of trait groups([1,2,3],[11,12,13])\n",
    "    's_ben':    0.02,                                   # selection coefficient of beneficial mutations\n",
    "    's_neu':    0,                                      # selection coefficient of neutral mutations\n",
    "    's_del':    -0.02,                                  # selection coefficient of deleterious mutations\n",
    "    's_pol':    0.1,                                    # trait coefficient\n",
    "    'gamma':    1,                                      # regularization value\n",
    "    'alphabet': ['A', 'T'],                             # all possible alleles                              \n",
    "    'po_site':  [[1,2,3],[11,12,13]],                   # binary trait sites\n",
    "    'save_cov': True,                                   # if true, print covariance matrix\n",
    "    'output' :  True,                                   # if true, print output\n",
    "    't_format': True,                                   # if true, output txt format\n",
    "    'd_format': True,                                   # if true, output dat format\n",
    "}\n",
    "\n",
    "sim.simulate(**pdata)\n",
    "sim.run_mpl_binary(**pdata)"
   ]
  },
  {
   "cell_type": "markdown",
   "metadata": {},
   "source": [
    "<a id='rep'></a>\n",
    "### Repeating simulation\n",
    "In this part, we run multiple simulations and use C++ code to get inferred coefficients."
   ]
  },
  {
   "cell_type": "code",
   "execution_count": 3,
   "metadata": {},
   "outputs": [
    {
     "name": "stdout",
     "output_type": "stream",
     "text": [
      "we have done 100 times simulations and produces 1 shell scripts run.sh\n"
     ]
    }
   ],
   "source": [
    "from imp import reload\n",
    "reload(sim)\n",
    "\n",
    "SIM_DIR = 'data/simulation'\n",
    "n       = 100\n",
    "\n",
    "pdata['output'] = False\n",
    "\n",
    "f = open(\"./%s/jobs/run.sh\"%SIM_DIR,'w')\n",
    "f.write('g++ main.cpp inf_binary.cpp io.cpp  -march=native -lgsl -lgslcblas -o mpl\\n')\n",
    "    \n",
    "for i in range(n):\n",
    "    pdata['xfile'] = 'jobs/seq/example-'+str(i)+'_ns1000_dt1'\n",
    "    sim.simulate(**pdata)\n",
    "    f.write('./mpl -i ./data/seq/example-%d_ns1000_dt1.dat -o ./output/sc-%d.dat -g 1e3 '%(i,i))\n",
    "    f.write('-N 1e3 -mu 2e-4 -q 2 -p ./data/polysite.dat -ps ./data/polysequence.dat\\n')\n",
    "\n",
    "f.close()\n",
    "print('we have done %d times simulations and produces 1 shell scripts run.sh'%n)"
   ]
  },
  {
   "cell_type": "markdown",
   "metadata": {},
   "source": [
    "<a id='nsdt'></a>\n",
    "### Running the inference algorithms and compiling output\n",
    "For one simulation, use different n_s and Δt to get the result"
   ]
  },
  {
   "cell_type": "code",
   "execution_count": null,
   "metadata": {},
   "outputs": [],
   "source": [
    "from imp import reload\n",
    "reload(sim)\n",
    "\n",
    "ns_vals = pdata['ns']\n",
    "dt_vals = pdata['dt']\n",
    "\n",
    "n = 100\n",
    "g = open(\"./%s/jobs/expand.sh\"%SIM_DIR,'w')\n",
    "g.write('g++ main.cpp inf_binary.cpp io.cpp  -march=native -lgsl -lgslcblas -o mpl\\n')\n",
    "for k in range(n):\n",
    "    pdata['xfile'] = 'example-'+str(k)\n",
    "    sim.py2c(**pdata)\n",
    "    for i in range(len(ns_vals)):\n",
    "        for j in range(len(dt_vals)):\n",
    "            g.write('./mpl -i data/input/example-%d_ns%d_dt%d.dat'%(k,ns_vals[i],dt_vals[j]))\n",
    "            g.write(' -o output/sc-%d_ns%d_dt%d.dat'%(k,ns_vals[i],dt_vals[j]))\n",
    "            g.write(' -g 1e3 -N 1e3 -mu 2e-4 -q 2 -p data/polysite.dat -ps data/polysequence.dat\\n')\n",
    "    g.write('rm -r data/input/example-%d_*\\n'%k)\n",
    "g.close()"
   ]
  },
  {
   "cell_type": "markdown",
   "metadata": {},
   "source": [
    "<a id='deal'></a>\n",
    "### Dealing with the output\n",
    "collect coefficients for all simulations and write the result into mpl_collected.csv."
   ]
  },
  {
   "cell_type": "code",
   "execution_count": 5,
   "metadata": {},
   "outputs": [
    {
     "name": "stdout",
     "output_type": "stream",
     "text": [
      "collect all coefficients for 100 simulations\n"
     ]
    }
   ],
   "source": [
    "nB = pdata['n_ben']\n",
    "nD = pdata['n_del']\n",
    "nN = pdata['n_neu']\n",
    "nP = pdata['n_pol']\n",
    "seq_length = nB+nD+nN\n",
    "\n",
    "f = open('%s/mpl_collected.csv'%SIM_DIR,'w')\n",
    "f.write('trajectory,t0,T,ns,delta_t')\n",
    "for i in range(seq_length):\n",
    "    f.write(',sc_%d'%i)\n",
    "for i in range(nP):\n",
    "    f.write(',pc_%d'%i)\n",
    "f.write('\\n')\n",
    "\n",
    "for k in range(n):\n",
    "    for i in range(len(ns_vals)):\n",
    "        for j in range(len(dt_vals)):\n",
    "            sc = np.loadtxt('%s/jobs/output/sc-%d_ns%d_dt%d.dat'%(SIM_DIR,k,ns_vals[i],dt_vals[j]))\n",
    "            f.write('%d,0,1000,%d,%d'%(k,ns_vals[i],dt_vals[j]))\n",
    "            for ii in range(seq_length):\n",
    "                f.write(',%f'%sc[ii])\n",
    "            for ii in range(nP):\n",
    "                f.write(',%f'%sc[-nP+ii])\n",
    "            f.write('\\n')\n",
    "f.close()\n",
    "print('collect all coefficients for %d simulations'%n)"
   ]
  },
  {
   "cell_type": "markdown",
   "metadata": {},
   "source": [
    "calculate AUROC for beneficial and deleterious mutation and NRMSE for trait part\n",
    "write these results into mpl_collected_extended.csv"
   ]
  },
  {
   "cell_type": "code",
   "execution_count": 6,
   "metadata": {},
   "outputs": [
    {
     "name": "stdout",
     "output_type": "stream",
     "text": [
      "collect all data for 100 simulations\n"
     ]
    }
   ],
   "source": [
    "nB = pdata['n_ben']\n",
    "nD = pdata['n_del']\n",
    "nN = pdata['n_neu']\n",
    "nP = pdata['n_pol']\n",
    "fB = pdata['s_ben']\n",
    "fD = pdata['s_del']\n",
    "fP = pdata['s_pol']\n",
    "\n",
    "true_ben = [1 if i in                        range(nB) else 0 for i in range(seq_length)];\n",
    "true_del = [1 if i in range(seq_length-nD, seq_length) else 0 for i in range(seq_length)];\n",
    "true_neu = [1 if i in range(        nB, seq_length-nD) else 0 for i in range(seq_length)];\n",
    "\n",
    "coefs = ['sc_%d' % j for j in range(seq_length)]\n",
    "\n",
    "df              = pd.read_csv('%s/mpl_collected.csv'%SIM_DIR, memory_map=True);\n",
    "\n",
    "# difference between inferred coefficients and true coefficients\n",
    "for i in range(seq_length):\n",
    "    if   true_ben[i]: df['d_sc%d' % i] = df['sc_%d' % i] - fB;\n",
    "    elif true_del[i]: df['d_sc%d' % i] = df['sc_%d' % i] - fD;\n",
    "    elif true_neu[i]: df['d_sc%d' % i] = df['sc_%d' % i];\n",
    "for i in range(nP):\n",
    "    df['d_pc%d' % i] = df['pc_%d' % i] - fP;\n",
    "\n",
    "# AUROC for beneficial and deleterious mutation\n",
    "df['AUROC_ben'] = pd.Series(data=[roc_auc_score(true_ben, np.array(df.iloc[i][coefs])) for i in range(len(df))]);\n",
    "df['AUROC_del'] = pd.Series(data=[roc_auc_score(true_del,-np.array(df.iloc[i][coefs])) for i in range(len(df))]);\n",
    "\n",
    "# error for trait part\n",
    "norm  = nP*(fP**2)\n",
    "error = 0\n",
    "for i in range(nP):\n",
    "    error += (df['pc_%d' % i] - fP) ** 2\n",
    "df['error_pol'] = np.sqrt(error/norm)\n",
    "\n",
    "\n",
    "df.to_csv('%s/mpl_collected_extended.csv'%SIM_DIR)\n",
    "\n",
    "print('collect all data for %d simulations'%n)"
   ]
  },
  {
   "cell_type": "code",
   "execution_count": null,
   "metadata": {},
   "outputs": [],
   "source": []
  }
 ],
 "metadata": {
  "kernelspec": {
   "display_name": "Python 3 (ipykernel)",
   "language": "python",
   "name": "python3"
  },
  "language_info": {
   "codemirror_mode": {
    "name": "ipython",
    "version": 3
   },
   "file_extension": ".py",
   "mimetype": "text/x-python",
   "name": "python",
   "nbconvert_exporter": "python",
   "pygments_lexer": "ipython3",
   "version": "3.9.13"
  }
 },
 "nbformat": 4,
 "nbformat_minor": 4
}
