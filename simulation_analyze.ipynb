{
 "cells": [
  {
   "cell_type": "markdown",
   "metadata": {},
   "source": [
    "# <font color = red> Simulation Analyze\n",
    "</font>This notebook records the parameters for Wright-Fisher simulations used to generate our test data sets, as well as commands for running infernce algorithms on the test data and compiling the results. "
   ]
  },
  {
   "cell_type": "markdown",
   "metadata": {},
   "source": [
    "## Contents\n",
    "- ### [Libraries and variables](#lib)\n",
    "- ### Data analyze\n",
    "    - #### [Generation of test data through Wright-Fisher simulations](#sim)\n",
    "    - #### [Repeating simulation](#rep)\n",
    "    - #### [Running the inference algorithms and compiling output](#nsdt)\n",
    "    - #### [Dealing with the output](#deal)\n",
    "    - #### [Supplement: multiple case and no recombination term case¶](#supp)"
   ]
  },
  {
   "cell_type": "markdown",
   "metadata": {},
   "source": [
    "## <a id='lib'></a> Libraries and variables"
   ]
  },
  {
   "cell_type": "code",
   "execution_count": 1,
   "metadata": {},
   "outputs": [
    {
     "name": "stdout",
     "output_type": "stream",
     "text": [
      "This notebook was prepared using:\n",
      "python version 3.10.9 | packaged by conda-forge | (main, Feb  2 2023, 20:26:08) [Clang 14.0.6 ]\n",
      "numpy version 1.24.2\n"
     ]
    }
   ],
   "source": [
    "# Full library list and version numbers\n",
    "\n",
    "print('This notebook was prepared using:')\n",
    "\n",
    "import sys\n",
    "print('python version %s' % sys.version)\n",
    "\n",
    "import numpy as np\n",
    "print('numpy version %s' % np.__version__)\n",
    "\n",
    "import random\n",
    "\n",
    "import pandas as pd\n",
    "\n",
    "import sklearn as sk\n",
    "from sklearn.metrics import roc_auc_score\n",
    "\n",
    "import importlib\n",
    "import simulation as sim\n",
    "\n",
    "# GitHub directories\n",
    "HIV_DIR = 'data/HIV'\n",
    "MPL_DIR = 'src/MPL'\n",
    "SIM_DIR = 'data/simulation'\n",
    "FIG_DIR = 'figures'"
   ]
  },
  {
   "cell_type": "markdown",
   "metadata": {},
   "source": [
    "## Data analyze"
   ]
  },
  {
   "cell_type": "markdown",
   "metadata": {},
   "source": [
    "<a id='sim'></a>\n",
    "### Single Wright-Fisher simulation example\n",
    "The fitness model work like this:\n",
    "$f_a = 1 + \\sum_i^L s_i g_i^a + \\sum_n^{N_t} s_n g_n^a$\n",
    "\n",
    "This simulation begins with all wild type, which only has 2 alleles (wild type and mutant type).\n",
    "\n",
    "Wright-Fisher simulations are performed using simulation.py. The output of these simulations is saved for processing. \n",
    "\n",
    "In this part, we use python code to run mpl.\n",
    "\n",
    "Regularization value for individual part is 1 and for trait group part is 0.1."
   ]
  },
  {
   "cell_type": "code",
   "execution_count": 2,
   "metadata": {},
   "outputs": [],
   "source": [
    "importlib.reload(sim)\n",
    "\n",
    "pdata = {\n",
    "    'n_gen':    1000,                                   # number of generations\n",
    "    'N':        1000,                                   # population size\n",
    "    'mu':       2e-4,                                   # mutation rate\n",
    "    'r':        2e-4,                                   # recombination rate\n",
    "    't0':       0,                                      # start generation\n",
    "    'T':        1000,                                   # final generation\n",
    "    'ns':       [10, 20, 30, 40, 50,  80, 100, 1000],   # number of sequences to sample at each time point\n",
    "    'dt':       [ 1,  5, 10, 20, 50],                   # spacing between generations\n",
    "    'xpath':    'example',                              # input file path\n",
    "    'xfile':    '0_ns1000_dt1',                         # input file name\n",
    "    'n_ben':    10,                                     # number of beneficial mutations\n",
    "    'n_neu':    30,                                     # number of neutral mutations\n",
    "    'n_del':    10,                                     # number of deleterious mutations\n",
    "    's_ben':    0.02,                                   # selection coefficient of beneficial mutations\n",
    "    's_neu':    0,                                      # selection coefficient of neutral mutations\n",
    "    's_del':    -0.02,                                  # selection coefficient of deleterious mutations\n",
    "    's_tra':    0.1,                                    # trait coefficient\n",
    "    'gamma':    1,                                      # regularization value\n",
    "    'alphabet': ['A', 'T'],                             # all possible alleles                              \n",
    "    'escape_group':  [[1,2,3],[11,12,13]],              # binary trait sites\n",
    "    'save_cov': True,                                   # if true, save covariance matrix\n",
    "    'example' : True,                                   # if true, this is an example, we will print the output\n",
    "}\n",
    "\n",
    "sim.simulate(**pdata)"
   ]
  },
  {
   "cell_type": "markdown",
   "metadata": {},
   "source": [
    "Use 3 files to restore the information about trait groups. (\"traitsites\": trait sites , \"traitseq\": TF sequences for trait sites,\"traitdis\":distance between 2 neighboring trait sites)"
   ]
  },
  {
   "cell_type": "code",
   "execution_count": 3,
   "metadata": {},
   "outputs": [],
   "source": [
    "'Create the necessary files'\n",
    "\n",
    "escape_group = pdata['escape_group']\n",
    "\n",
    "# trait distance \n",
    "f = open('%s/example/traitdis-0.dat'%(SIM_DIR), 'w')\n",
    "for i in range(2):\n",
    "    i_dis = []\n",
    "    for j in range(2):\n",
    "        i_dis.append(int(escape_group[i][j+1]-escape_group[i][j]))\n",
    "    f.write('%s\\n'%'\\t'.join([str(ii) for ii in i_dis]))\n",
    "f.close()\n",
    "\n",
    "# trait sequence \n",
    "f = open('%s/example/traitseq-0.dat'%(SIM_DIR), 'w')\n",
    "for i in range(2):\n",
    "    f.write('%s\\n'%'\\t'.join([str(0) for j in range(3)]))\n",
    "f.close()\n",
    "\n",
    "# trait sites \n",
    "f = open('%s/example/traitsite-0.dat'%(SIM_DIR), 'w')\n",
    "for i in range(2):\n",
    "    f.write('%s\\n'%'\\t'.join([str(ii) for ii in escape_group[i]]))\n",
    "f.close()"
   ]
  },
  {
   "cell_type": "markdown",
   "metadata": {},
   "source": [
    "Run MPL with python code "
   ]
  },
  {
   "cell_type": "code",
   "execution_count": 4,
   "metadata": {},
   "outputs": [
    {
     "name": "stdout",
     "output_type": "stream",
     "text": [
      "Execution time for simulation (binary case): 77.60822486877441 seconds\n",
      "Calculation completes\n",
      "inferred beneficial selection coefficients are:\n",
      "[0.00922488 0.01779665 0.00704391 0.02181248 0.02952003 0.01376223\n",
      " 0.01339774 0.01600949 0.01659001 0.01639045]\n",
      "inferred neutral selection coefficients are:\n",
      "[ 0.00148836 -0.01445969 -0.02071117 -0.04059499  0.00269984 -0.00856594\n",
      "  0.00796704 -0.00208039  0.00028794 -0.00519714 -0.00063395 -0.00602022\n",
      "  0.00929163 -0.00542618  0.00329977  0.00218841  0.0066797  -0.00267986\n",
      " -0.00518262  0.00279814  0.00216829 -0.02111263 -0.03461632  0.00192633\n",
      " -0.01030131  0.00231661 -0.00075496  0.00017662 -0.00798882 -0.01116452]\n",
      "inferred deleterious selection coefficients are:\n",
      "[-0.01220916 -0.00940609 -0.0244221  -0.04899712 -0.01576807 -0.01215628\n",
      " -0.0353718  -0.00930469 -0.02084199 -0.03503064]\n",
      "inferred trait coefficients are:\n",
      "[0.0907283  0.10474854]\n"
     ]
    }
   ],
   "source": [
    "sim.run_mpl_binary(**pdata)"
   ]
  },
  {
   "cell_type": "markdown",
   "metadata": {},
   "source": [
    "Run MPL with C++ code. \n",
    "The result is similar to python code and much faster. The difference between 2 codes is partly because we do not use interpolation in python code."
   ]
  },
  {
   "cell_type": "code",
   "execution_count": 5,
   "metadata": {},
   "outputs": [],
   "source": [
    "'binary C code'\n",
    "f = open(\"src/sim_example.sh\",'w')\n",
    "f.write('g++ binary/main.cpp binary/inf_binary.cpp binary/io_binary.cpp -march=native -lgsl -lgslcblas -o mpl\\n')\n",
    "f.write('./mpl -d ../data/simulation/example -i example-0_ns1000_dt1.dat ')\n",
    "f.write('-o sc-0_ns1000_dt1-C.dat -g 1 -N 1e3 -mu 2e-4 -rr 2e-4 ')\n",
    "f.write('-e traitsite-0.dat -es traitseq-0.dat -ed traitdis-0.dat -sc covariance-0_ns1000_dt1-C.dat\\n')\n",
    "f.close()\n"
   ]
  },
  {
   "cell_type": "markdown",
   "metadata": {},
   "source": [
    "<a id='rep'></a>\n",
    "### Repeating simulation\n",
    "In this part, we run multiple simulations by Python. For all simulations, their initial conditions are the same, except for trait group, which is generated randomly."
   ]
  },
  {
   "cell_type": "code",
   "execution_count": 6,
   "metadata": {},
   "outputs": [
    {
     "name": "stdout",
     "output_type": "stream",
     "text": [
      "we have done 100 times simulations\n"
     ]
    }
   ],
   "source": [
    "import json\n",
    "from importlib import reload\n",
    "reload(sim)\n",
    "\n",
    "SIM_DIR = 'data/simulation'\n",
    "n_sim   = 100\n",
    "\n",
    "pdata['xpath']    = 'jobs'\n",
    "pdata['example']  = False\n",
    "pdata['save_cov'] = False\n",
    "\n",
    "# get random escape groups for 100 simulations\n",
    "escape_groups = []\n",
    "for n in range(n_sim):\n",
    "    random_numbers   = random.sample(range(50), 6)\n",
    "    escape_group_raw = [random_numbers[:3],random_numbers[3:]]\n",
    "    escape_group     = [sorted(sublist) for sublist in escape_group_raw]\n",
    "    escape_groups.append(escape_group)\n",
    "    \n",
    "    # trait sites \n",
    "    f = open('%s/jobs/traitsite/traitsite-%s.dat'%(SIM_DIR,n), 'w')\n",
    "    for i in range(len(escape_group)):\n",
    "        f.write('%s\\n'%'\\t'.join([str(ii) for ii in escape_group[i]]))\n",
    "    f.close()\n",
    "    \n",
    "    # distance between 2 trait sites\n",
    "    f = open('%s/jobs/traitdis/traitdis-%s.dat'%(SIM_DIR,n), 'w')\n",
    "    for i in range(len(escape_group)):\n",
    "        i_dis = []\n",
    "        for j in range(len(escape_group[i])-1):\n",
    "            i_dis.append(int(escape_group[i][j+1]-escape_group[i][j]))\n",
    "        f.write('%s\\n'%'\\t'.join([str(ii) for ii in i_dis]))\n",
    "    f.close()\n",
    "\n",
    "# trait sequence \n",
    "f = open('%s/jobs/traitseq.dat'%(SIM_DIR), 'w')\n",
    "for i in range(2):\n",
    "    f.write('%s\\n'%'\\t'.join([str(0) for j in range(3)]))\n",
    "f.close()\n",
    "    \n",
    "# save and load escape group information\n",
    "with open(\"%s/jobs/escape_groups.dat\"%SIM_DIR, 'w') as file:\n",
    "    json.dump(escape_groups, file)\n",
    "\n",
    "# with open(\"%s/jobs/escape_groups.dat\"%SIM_DIR, 'r') as file:\n",
    "#     escape_groups = json.load(file)\n",
    "\n",
    "# inference\n",
    "for n in range(n_sim):\n",
    "    pdata['escape_group'] = escape_groups[n]\n",
    "    pdata['xfile'] = 'example-'+str(n)+'_ns1000_dt1' \n",
    "    sim.simulate(**pdata)\n",
    "#     sim.run_mpl_binary(**pdata)\n",
    "\n",
    "print('we have done %d times simulations'%n_sim)"
   ]
  },
  {
   "cell_type": "markdown",
   "metadata": {},
   "source": [
    "Write down a shell code to run the results with C++"
   ]
  },
  {
   "cell_type": "code",
   "execution_count": 7,
   "metadata": {},
   "outputs": [
    {
     "name": "stdout",
     "output_type": "stream",
     "text": [
      "we have produced the shell script run_sim.sh\n"
     ]
    }
   ],
   "source": [
    "'binary C code'\n",
    "f = open(\"src/sim.sh\",'w')\n",
    "f.write('g++ binary/main.cpp binary/inf_binary.cpp binary/io_binary.cpp -march=native -lgsl -lgslcblas -o mpl\\n')\n",
    "for n in range(n_sim):\n",
    "    f.write('./mpl -d ../data/simulation/jobs -i sequences/example-%d_ns1000_dt1.dat '%n)\n",
    "    f.write('-o output/sc-%d.dat -g 1 -N 1e3 -mu 2e-4 -rr 2e-4 '%n)\n",
    "    f.write('-e traitsite/traitsite-%d.dat -es traitseq.dat -ed traitdis/traitdis-%d.dat '%(n,n))\n",
    "    f.write('-sc covariance/covariance-%d.dat\\n'%(n))\n",
    "    \n",
    "f.close()\n",
    "\n",
    "print('we have produced the shell script run_sim.sh')"
   ]
  },
  {
   "cell_type": "markdown",
   "metadata": {},
   "source": [
    "Create a csv file to store the results of all simulations."
   ]
  },
  {
   "cell_type": "code",
   "execution_count": 8,
   "metadata": {},
   "outputs": [
    {
     "name": "stdout",
     "output_type": "stream",
     "text": [
      "collect all coefficients for 100 simulations\n"
     ]
    }
   ],
   "source": [
    "nB = pdata['n_ben']\n",
    "nD = pdata['n_del']\n",
    "nN = pdata['n_neu']\n",
    "nT = 2\n",
    "seq_length = nB+nD+nN\n",
    "\n",
    "f = open('%s/mpl_collected_C.csv'%SIM_DIR,'w')\n",
    "f.write('trajectory,ns,delta_t')\n",
    "for i in range(seq_length):\n",
    "    f.write(',sc_%d'%i)\n",
    "for i in range(nT):\n",
    "    f.write(',tc_%d'%i)\n",
    "f.write('\\n')\n",
    "\n",
    "for k in range(n_sim):\n",
    "    sc = np.loadtxt('%s/jobs/output/sc-%d.dat'%(SIM_DIR,k))\n",
    "    f.write('%d,1000,1'%(k))\n",
    "    for ii in range(seq_length):\n",
    "        f.write(',%f'%(sc[ii]))\n",
    "    for ii in range(nT):\n",
    "        f.write(',%f'%sc[-nT+ii])\n",
    "    f.write('\\n')\n",
    "f.close()\n",
    "\n",
    "print('collect all coefficients for %d simulations'%n_sim)"
   ]
  },
  {
   "cell_type": "markdown",
   "metadata": {},
   "source": [
    "<a id='supp'></a>\n",
    "### Supplement: no recombination term case\n",
    "Run the results without recombination term by C++ "
   ]
  },
  {
   "cell_type": "code",
   "execution_count": 9,
   "metadata": {},
   "outputs": [
    {
     "name": "stdout",
     "output_type": "stream",
     "text": [
      "we have produced the shell script sim_noR.sh\n"
     ]
    }
   ],
   "source": [
    "'binary C code without recombination part'\n",
    "f = open(\"src/sim_noR.sh\",'w')\n",
    "f.write('g++ binary/main.cpp binary/inf_binary.cpp binary/io_binary.cpp -march=native -lgsl -lgslcblas -o mpl\\n')\n",
    "for n in range(n_sim):\n",
    "    f.write('./mpl -d ../data/simulation/jobs -i sequences/example-%d_ns1000_dt1.dat '%n)\n",
    "    f.write('-o output_noR/sc-%d.dat -g 1 -N 1e3 -mu 2e-4 -rr 0 '%n)\n",
    "    f.write('-e traitsite/traitsite-%d.dat -es traitseq.dat -ed traitdis/traitdis-%d.dat\\n'%(n,n))\n",
    "f.close()\n",
    "\n",
    "print('we have produced the shell script sim_noR.sh')"
   ]
  },
  {
   "cell_type": "code",
   "execution_count": 10,
   "metadata": {},
   "outputs": [
    {
     "name": "stdout",
     "output_type": "stream",
     "text": [
      "collect all coefficients for 100 simulations without recombination part\n"
     ]
    }
   ],
   "source": [
    "'binary C code without recombination part'\n",
    "\n",
    "f = open('%s/mpl_collected_noR.csv'%SIM_DIR,'w')\n",
    "f.write('trajectory,ns,delta_t')\n",
    "for i in range(seq_length):\n",
    "    f.write(',sc_%d'%i)\n",
    "for i in range(nT):\n",
    "    f.write(',tc_%d'%i)\n",
    "f.write('\\n')\n",
    "\n",
    "for k in range(n_sim):\n",
    "    sc = np.loadtxt('%s/jobs/output_noR/sc-%d.dat'%(SIM_DIR,k))\n",
    "    f.write('%d,1000,1'%(k))\n",
    "    for ii in range(seq_length):\n",
    "        f.write(',%f'%(sc[ii]))\n",
    "    for ii in range(nT):\n",
    "        f.write(',%f'%sc[-nT+ii])\n",
    "    f.write('\\n')\n",
    "f.close()\n",
    "\n",
    "print('collect all coefficients for %d simulations without recombination part'%n_sim)"
   ]
  },
  {
   "cell_type": "markdown",
   "metadata": {},
   "source": [
    "<a id='nsdt'></a>\n",
    "### Running the inference algorithms and compiling output\n",
    "For one simulation, use different n_s and Δt to get the result"
   ]
  },
  {
   "cell_type": "code",
   "execution_count": 11,
   "metadata": {},
   "outputs": [],
   "source": [
    "from importlib import reload\n",
    "reload(sim)\n",
    "\n",
    "ns_vals = pdata['ns']\n",
    "dt_vals = pdata['dt']\n",
    "\n",
    "g = open(\"src/sim_nsdt.sh\",'w')\n",
    "g.write('g++ binary/main.cpp binary/inf_binary.cpp binary/io_binary.cpp -march=native -lgsl -lgslcblas -o mpl\\n')\n",
    "for k in range(n_sim):\n",
    "    pdata['xfile'] = 'example-'+str(k)\n",
    "#     sim.py2c(**pdata)\n",
    "    for i in range(len(ns_vals)):\n",
    "        for j in range(len(dt_vals)):\n",
    "            g.write('./mpl -d ../data/simulation/jobs ')\n",
    "            g.write('-i sequences/nsdt/example-%d_ns%d_dt%d.dat '%(k,ns_vals[i],dt_vals[j]))\n",
    "            g.write('-o output/nsdt/sc-%d_ns%d_dt%d.dat '%(k,ns_vals[i],dt_vals[j]))\n",
    "            g.write('-g 1 -N 1e3 -mu 2e-4 -rr 2e-4 -e traitsite/traitsite-%d.dat '%(k))\n",
    "            g.write('-es traitseq.dat -ed traitdis/traitdis-%d.dat\\n'%(k))\n",
    "g.close()"
   ]
  },
  {
   "cell_type": "markdown",
   "metadata": {},
   "source": [
    "<a id='deal'></a>\n",
    "### Dealing with the output\n",
    "collect coefficients for all simulations and write the result into mpl_collected.csv."
   ]
  },
  {
   "cell_type": "code",
   "execution_count": 12,
   "metadata": {},
   "outputs": [
    {
     "name": "stdout",
     "output_type": "stream",
     "text": [
      "collect all coefficients for 4000 simulations\n"
     ]
    }
   ],
   "source": [
    "nB = pdata['n_ben']\n",
    "nD = pdata['n_del']\n",
    "nN = pdata['n_neu']\n",
    "nT = 2\n",
    "seq_length = nB+nD+nN\n",
    "\n",
    "n_sim = 100\n",
    "\n",
    "f = open('%s/mpl_collected_nsdt.csv'%SIM_DIR,'w')\n",
    "f.write('trajectory,t0,T,ns,delta_t')\n",
    "for i in range(seq_length):\n",
    "    f.write(',sc_%d'%i)\n",
    "for i in range(nT):\n",
    "    f.write(',tc_%d'%i)\n",
    "f.write('\\n')\n",
    "\n",
    "for k in range(n_sim):\n",
    "    for i in range(len(ns_vals)):\n",
    "        for j in range(len(dt_vals)):\n",
    "            sc = np.loadtxt('%s/jobs/output/nsdt/sc-%d_ns%d_dt%d.dat'%(SIM_DIR,k,ns_vals[i],dt_vals[j]))\n",
    "            f.write('%d,0,1000,%d,%d'%(k,ns_vals[i],dt_vals[j]))\n",
    "            for ii in range(seq_length):\n",
    "                f.write(',%f'%sc[ii])\n",
    "            for ii in range(nT):\n",
    "                f.write(',%f'%sc[-nT+ii])\n",
    "            f.write('\\n')\n",
    "f.close()\n",
    "\n",
    "print('collect all coefficients for %d simulations'%(n_sim*len(ns_vals)*len(dt_vals)))"
   ]
  },
  {
   "cell_type": "markdown",
   "metadata": {},
   "source": [
    "Calculate AUROC for beneficial and deleterious mutation and NRMSE for trait part\\\n",
    "Write these results into mpl_collected_extended.csv"
   ]
  },
  {
   "cell_type": "code",
   "execution_count": 13,
   "metadata": {},
   "outputs": [
    {
     "name": "stdout",
     "output_type": "stream",
     "text": [
      "collect all AUROC and NRMSE for 4000 simulations\n"
     ]
    }
   ],
   "source": [
    "nB = pdata['n_ben']\n",
    "nD = pdata['n_del']\n",
    "nN = pdata['n_neu']\n",
    "nT = 2\n",
    "fB = pdata['s_ben']\n",
    "fD = pdata['s_del']\n",
    "ft = pdata['s_tra']\n",
    "\n",
    "true_ben = [1 if i in                        range(nB) else 0 for i in range(seq_length)];\n",
    "true_del = [1 if i in range(seq_length-nD, seq_length) else 0 for i in range(seq_length)];\n",
    "true_neu = [1 if i in range(        nB, seq_length-nD) else 0 for i in range(seq_length)];\n",
    "\n",
    "coefs = ['sc_%d' % j for j in range(seq_length)]\n",
    "\n",
    "df              = pd.read_csv('%s/mpl_collected_nsdt.csv'%SIM_DIR, memory_map=True);\n",
    "\n",
    "# difference between inferred coefficients and true coefficients\n",
    "for i in range(seq_length):\n",
    "    if   true_ben[i]: df['d_sc%d' % i] = df['sc_%d' % i] - fB;\n",
    "    elif true_del[i]: df['d_sc%d' % i] = df['sc_%d' % i] - fD;\n",
    "    elif true_neu[i]: df['d_sc%d' % i] = df['sc_%d' % i];\n",
    "for i in range(nT):\n",
    "    df['d_tc%d' % i] = df['tc_%d' % i] - ft;\n",
    "\n",
    "# AUROC for beneficial and deleterious mutation\n",
    "df['AUROC_ben'] = pd.Series(data=[roc_auc_score(true_ben, np.array(df.iloc[i][coefs])) for i in range(len(df))]);\n",
    "df['AUROC_del'] = pd.Series(data=[roc_auc_score(true_del,-np.array(df.iloc[i][coefs])) for i in range(len(df))]);\n",
    "\n",
    "# error for trait part\n",
    "norm  = nT*(ft**2)\n",
    "error = 0\n",
    "for i in range(nT):\n",
    "    error += (df['tc_%d' % i] - ft) ** 2\n",
    "df['error_tra'] = np.sqrt(error/norm)\n",
    "\n",
    "df.to_csv('%s/mpl_collected_extended.csv'%SIM_DIR)\n",
    "\n",
    "print('collect all AUROC and NRMSE for %d simulations'%(n_sim*len(ns_vals)*len(dt_vals)))"
   ]
  },
  {
   "cell_type": "markdown",
   "metadata": {},
   "source": [
    "### Supplement: time-varying binary trait\n",
    "Assume the selection coefficient for binary trait is a time-varying value instead of a constant value."
   ]
  },
  {
   "cell_type": "code",
   "execution_count": 14,
   "metadata": {},
   "outputs": [],
   "source": [
    "importlib.reload(sim)\n",
    "\n",
    "generations = 1000\n",
    "t1          = 200\n",
    "t2          = generations - t1\n",
    "fn          = np.zeros(generations+1)\n",
    "\n",
    "for t in range(t1):\n",
    "    fn[t] = 0.1/t1*t\n",
    "for t in range(t1,generations+1):\n",
    "    fn[t] = 0.1 - (0.1)/t2*(t-t1)\n",
    "    \n",
    "pdata = {\n",
    "    'alphabet': ['A', 'T'],                             # all possible alleles                              \n",
    "    'xpath':    'time-varying',                         # input file path\n",
    "    'xfile':    '0_ns1000_dt1',                         # input file name\n",
    "    'n_gen':    generations,                            # number of generations\n",
    "    'N':        1000,                                   # population size\n",
    "    'mu':       2e-4,                                   # mutation rate\n",
    "    'r':        2e-4,                                   # recombination rate\n",
    "    'n_ben':    10,                                     # number of beneficial mutations\n",
    "    'n_neu':    30,                                     # number of neutral mutations\n",
    "    'n_del':    10,                                     # number of deleterious mutations\n",
    "    's_ben':    0.02,                                   # selection coefficient of beneficial mutations\n",
    "    's_del':    -0.02,                                  # selection coefficient of deleterious mutations\n",
    "    's_tra':    fn,                                     # trait coefficient\n",
    "    'escape_group':  [[1,2,3],[11,12,13]],              # binary trait sites\n",
    "    'inital_state': 4,                                  # initial states\n",
    "}"
   ]
  },
  {
   "cell_type": "code",
   "execution_count": 15,
   "metadata": {},
   "outputs": [
    {
     "name": "stdout",
     "output_type": "stream",
     "text": [
      "we have done 100 times simulations\n"
     ]
    }
   ],
   "source": [
    "n_sim   = 100\n",
    "\n",
    "xpath = pdata['xpath']\n",
    "\n",
    "# get random escape groups for 100 simulations\n",
    "escape_groups = []\n",
    "for n in range(n_sim):\n",
    "    random_numbers   = random.sample(range(50), 6)\n",
    "    escape_group_raw = [random_numbers[:3],random_numbers[3:]]\n",
    "    escape_group     = [sorted(sublist) for sublist in escape_group_raw]\n",
    "    escape_groups.append(escape_group)\n",
    "    \n",
    "    # trait sites \n",
    "    f = open('%s/%s/traitsite/traitsite-%s.dat'%(SIM_DIR,xpath,n), 'w')\n",
    "    for i in range(len(escape_group)):\n",
    "        f.write('%s\\n'%'\\t'.join([str(ii) for ii in escape_group[i]]))\n",
    "    f.close()\n",
    "    \n",
    "    # distance between 2 trait sites\n",
    "    f = open('%s/%s/traitdis/traitdis-%s.dat'%(SIM_DIR,xpath,n), 'w')\n",
    "    for i in range(len(escape_group)):\n",
    "        i_dis = []\n",
    "        for j in range(len(escape_group[i])-1):\n",
    "            i_dis.append(int(escape_group[i][j+1]-escape_group[i][j]))\n",
    "        f.write('%s\\n'%'\\t'.join([str(ii) for ii in i_dis]))\n",
    "    f.close()\n",
    "\n",
    "# trait sequence \n",
    "f = open('%s/%s/traitseq.dat'%(SIM_DIR,xpath), 'w')\n",
    "for i in range(2):\n",
    "    f.write('%s\\n'%'\\t'.join([str(0) for j in range(3)]))\n",
    "f.close()\n",
    "    \n",
    "# save and load escape group information\n",
    "with open(\"%s/%s/escape_groups.dat\"%(SIM_DIR,xpath), 'w') as file:\n",
    "    json.dump(escape_groups, file)\n",
    "\n",
    "# with open(\"%s/jobs/escape_groups.dat\"%SIM_DIR, 'r') as file:\n",
    "#     escape_groups = json.load(file)\n",
    "\n",
    "# inference\n",
    "for n in range(n_sim):\n",
    "    pdata['escape_group'] = escape_groups[n]\n",
    "    pdata['xfile'] = 'example-'+str(n)+'_ns1000_dt1' \n",
    "    sim.simulate_tv(**pdata)\n",
    "\n",
    "print('we have done %d times simulations'%n_sim)"
   ]
  },
  {
   "cell_type": "code",
   "execution_count": 16,
   "metadata": {},
   "outputs": [
    {
     "name": "stdout",
     "output_type": "stream",
     "text": [
      "we have produced the shell script run_sim.sh\n"
     ]
    }
   ],
   "source": [
    "'binary C code'\n",
    "f = open(\"src/sim-tv.sh\",'w')\n",
    "f.write('g++ binary/main.cpp binary/inf_binary.cpp binary/io_binary.cpp -march=native -lgsl -lgslcblas -o mpl\\n')\n",
    "for n in range(n_sim):\n",
    "    f.write('./mpl -d ../data/simulation/time-varying -i sequences/example-%d_ns1000_dt1.dat '%n)\n",
    "    f.write('-o output/sc-%d.dat -g 1 -N 1e3 -mu 2e-4 -rr 2e-4 '%n)\n",
    "    f.write('-e traitsite/traitsite-%d.dat -es traitseq.dat -ed traitdis/traitdis-%d.dat '%(n,n))\n",
    "    f.write('-sc covariance/covariance-%d.dat\\n'%(n))\n",
    "    \n",
    "f.close()\n",
    "\n",
    "print('we have produced the shell script run_sim.sh')"
   ]
  },
  {
   "cell_type": "code",
   "execution_count": 17,
   "metadata": {},
   "outputs": [
    {
     "name": "stdout",
     "output_type": "stream",
     "text": [
      "collect all coefficients for 100 simulations with time-varying trait coefficients\n"
     ]
    }
   ],
   "source": [
    "'Create a csv file to store the results of all simulations.'\n",
    "\n",
    "nB = pdata['n_ben']\n",
    "nD = pdata['n_del']\n",
    "nN = pdata['n_neu']\n",
    "nT = len(pdata['escape_group'])\n",
    "seq_length = nB+nD+nN\n",
    "\n",
    "f = open('%s/mpl_collected_tv.csv'%SIM_DIR,'w')\n",
    "f.write('trajectory,ns,delta_t')\n",
    "for i in range(seq_length):\n",
    "    f.write(',sc_%d'%i)\n",
    "for i in range(nT):\n",
    "    f.write(',tc_%d'%i)\n",
    "f.write('\\n')\n",
    "\n",
    "for k in range(n_sim):\n",
    "    sc = np.loadtxt('%s/time-varying/output/sc-%d.dat'%(SIM_DIR,k))\n",
    "    f.write('%d,1000,1'%(k))\n",
    "    for ii in range(seq_length):\n",
    "        f.write(',%f'%(sc[ii]))\n",
    "    for ii in range(nT):\n",
    "        f.write(',%f'%sc[-nT+ii])\n",
    "    f.write('\\n')\n",
    "f.close()\n",
    "\n",
    "print('collect all coefficients for %d simulations with time-varying trait coefficients'%n_sim)"
   ]
  },
  {
   "cell_type": "code",
   "execution_count": null,
   "metadata": {},
   "outputs": [],
   "source": []
  }
 ],
 "metadata": {
  "kernelspec": {
   "display_name": "Python 3 (ipykernel)",
   "language": "python",
   "name": "python3"
  },
  "language_info": {
   "codemirror_mode": {
    "name": "ipython",
    "version": 3
   },
   "file_extension": ".py",
   "mimetype": "text/x-python",
   "name": "python",
   "nbconvert_exporter": "python",
   "pygments_lexer": "ipython3",
   "version": "3.10.9"
  }
 },
 "nbformat": 4,
 "nbformat_minor": 4
}
